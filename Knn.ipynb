{
 "cells": [
  {
   "cell_type": "markdown",
   "metadata": {},
   "source": [
    "## Fazendo o KNN usando numpy e pandas"
   ]
  },
  {
   "cell_type": "code",
   "execution_count": 1,
   "metadata": {},
   "outputs": [],
   "source": [
    "import numpy as np\n",
    "import pandas as pd"
   ]
  },
  {
   "cell_type": "code",
   "execution_count": 2,
   "metadata": {},
   "outputs": [],
   "source": [
    "# temos 2 vetores e queremos saber a distancia euclidiana entre eles\n",
    "x_vetor = np.array([5,7,9])\n",
    "y_vetor = np.array([5,5,5])"
   ]
  },
  {
   "cell_type": "markdown",
   "metadata": {},
   "source": [
    "    # Qual a fórmula da distãncia euclidiana?\n",
    "\n",
    "$$DE (x,y) = \\sqrt{\\sum_{i}^{p}(x_{i}-y_{i})^{2} }$$\n",
    "\n",
    "DE = Distancia Euclidiana"
   ]
  },
  {
   "cell_type": "markdown",
   "metadata": {},
   "source": [
    "    # Como fazer a subtração de cada posição do vetor (iteração)?\n",
    "\n",
    "$(x_{i}-y_{i})$\n",
    "\n",
    "$(x_{0}-y_{0}) = (5-5)$\n",
    "\n",
    "$(x_{1}-y_{1}) = (7-5)$\n",
    "\n",
    "$(x_{2}-y_{2}) = (9-5)$"
   ]
  },
  {
   "cell_type": "code",
   "execution_count": 3,
   "metadata": {},
   "outputs": [
    {
     "data": {
      "text/plain": [
       "array([0, 2, 4])"
      ]
     },
     "execution_count": 3,
     "metadata": {},
     "output_type": "execute_result"
    }
   ],
   "source": [
    "# subtração de cada posição do vetor\n",
    "de = x_vetor - y_vetor\n",
    "de"
   ]
  },
  {
   "cell_type": "markdown",
   "metadata": {},
   "source": [
    "    # Como elevar ao quadrado cada valor?\n",
    "   \n",
    "$(x_{i}-y_{i})^{2}$\n",
    "\n",
    "$(0)^{2}$\n",
    "\n",
    "$(2)^{2}$\n",
    "\n",
    "$(5)^{2}$"
   ]
  },
  {
   "cell_type": "code",
   "execution_count": 4,
   "metadata": {},
   "outputs": [
    {
     "data": {
      "text/plain": [
       "array([ 0,  4, 16])"
      ]
     },
     "execution_count": 4,
     "metadata": {},
     "output_type": "execute_result"
    }
   ],
   "source": [
    "# elevação ao quadrado\n",
    "de = de**2\n",
    "de"
   ]
  },
  {
   "cell_type": "markdown",
   "metadata": {},
   "source": [
    "        # Como fazer o somatório dos elementos?\n",
    "$(0) + (4) + (16) = (?)$"
   ]
  },
  {
   "cell_type": "code",
   "execution_count": 5,
   "metadata": {},
   "outputs": [
    {
     "data": {
      "text/plain": [
       "20"
      ]
     },
     "execution_count": 5,
     "metadata": {},
     "output_type": "execute_result"
    }
   ],
   "source": [
    "# somatório dos elementos\n",
    "de = de.sum()\n",
    "de"
   ]
  },
  {
   "cell_type": "markdown",
   "metadata": {},
   "source": [
    "        # Como tirar a raiz quadrada?\n",
    "$\\sqrt{(20)} = 4.47...$"
   ]
  },
  {
   "cell_type": "code",
   "execution_count": 6,
   "metadata": {},
   "outputs": [
    {
     "data": {
      "text/plain": [
       "4.47213595499958"
      ]
     },
     "execution_count": 6,
     "metadata": {},
     "output_type": "execute_result"
    }
   ],
   "source": [
    "de = np.sqrt(de)\n",
    "de"
   ]
  },
  {
   "cell_type": "markdown",
   "metadata": {},
   "source": [
    "## Exemplo usando Pandas DataFrame"
   ]
  },
  {
   "cell_type": "code",
   "execution_count": 7,
   "metadata": {},
   "outputs": [
    {
     "data": {
      "text/plain": [
       "array(['Invocacao do Mal', 'Floresta Maldita', 'Meu Passado Me Condena',\n",
       "       'Vizinhos 2', 'Deadpool', 'Tirando o Atraso'], dtype='<U22')"
      ]
     },
     "execution_count": 7,
     "metadata": {},
     "output_type": "execute_result"
    }
   ],
   "source": [
    "# construindo o DataFrame\n",
    "# rotulos y\n",
    "filmes = np.array(['Invocacao do Mal','Floresta Maldita','Meu Passado Me Condena', 'Vizinhos 2', 'Deadpool', 'Tirando o Atraso'])\n",
    "filmes"
   ]
  },
  {
   "cell_type": "code",
   "execution_count": 8,
   "metadata": {},
   "outputs": [
    {
     "data": {
      "text/plain": [
       "array(['Violencia', 'Romance', 'Acao', 'Comedia'], dtype='<U9')"
      ]
     },
     "execution_count": 8,
     "metadata": {},
     "output_type": "execute_result"
    }
   ],
   "source": [
    "# rotulos x\n",
    "tipos = np.array(['Violencia', 'Romance', 'Acao', 'Comedia'])\n",
    "tipos"
   ]
  },
  {
   "cell_type": "code",
   "execution_count": 9,
   "metadata": {},
   "outputs": [
    {
     "data": {
      "text/plain": [
       "array([[0.6, 0. , 0.3, 0. ],\n",
       "       [0.9, 0. , 0.5, 0.1],\n",
       "       [0.1, 0.2, 0.1, 0.9],\n",
       "       [0. , 0.1, 0.2, 0.8],\n",
       "       [0.5, 0. , 0.7, 0.1],\n",
       "       [0. , 0.2, 0.2, 0.8]])"
      ]
     },
     "execution_count": 9,
     "metadata": {},
     "output_type": "execute_result"
    }
   ],
   "source": [
    "# valores dos atributos\n",
    "valores = np.array([[0.6,0.0,0.3,0.0],\n",
    "                    [0.9,0.0,0.5,0.1],\n",
    "                    [0.1,0.2,0.1,0.9],\n",
    "                    [0.0,0.1,0.2,0.8],\n",
    "                    [0.5,0.0,0.7,0.1],\n",
    "                    [0.0,0.2,0.2,0.8]])\n",
    "valores"
   ]
  },
  {
   "cell_type": "code",
   "execution_count": 10,
   "metadata": {},
   "outputs": [
    {
     "data": {
      "text/html": [
       "<div>\n",
       "<style scoped>\n",
       "    .dataframe tbody tr th:only-of-type {\n",
       "        vertical-align: middle;\n",
       "    }\n",
       "\n",
       "    .dataframe tbody tr th {\n",
       "        vertical-align: top;\n",
       "    }\n",
       "\n",
       "    .dataframe thead th {\n",
       "        text-align: right;\n",
       "    }\n",
       "</style>\n",
       "<table border=\"1\" class=\"dataframe\">\n",
       "  <thead>\n",
       "    <tr style=\"text-align: right;\">\n",
       "      <th></th>\n",
       "      <th>Violencia</th>\n",
       "      <th>Romance</th>\n",
       "      <th>Acao</th>\n",
       "      <th>Comedia</th>\n",
       "    </tr>\n",
       "  </thead>\n",
       "  <tbody>\n",
       "    <tr>\n",
       "      <th>Invocacao do Mal</th>\n",
       "      <td>0.6</td>\n",
       "      <td>0.0</td>\n",
       "      <td>0.3</td>\n",
       "      <td>0.0</td>\n",
       "    </tr>\n",
       "    <tr>\n",
       "      <th>Floresta Maldita</th>\n",
       "      <td>0.9</td>\n",
       "      <td>0.0</td>\n",
       "      <td>0.5</td>\n",
       "      <td>0.1</td>\n",
       "    </tr>\n",
       "    <tr>\n",
       "      <th>Meu Passado Me Condena</th>\n",
       "      <td>0.1</td>\n",
       "      <td>0.2</td>\n",
       "      <td>0.1</td>\n",
       "      <td>0.9</td>\n",
       "    </tr>\n",
       "    <tr>\n",
       "      <th>Vizinhos 2</th>\n",
       "      <td>0.0</td>\n",
       "      <td>0.1</td>\n",
       "      <td>0.2</td>\n",
       "      <td>0.8</td>\n",
       "    </tr>\n",
       "    <tr>\n",
       "      <th>Deadpool</th>\n",
       "      <td>0.5</td>\n",
       "      <td>0.0</td>\n",
       "      <td>0.7</td>\n",
       "      <td>0.1</td>\n",
       "    </tr>\n",
       "    <tr>\n",
       "      <th>Tirando o Atraso</th>\n",
       "      <td>0.0</td>\n",
       "      <td>0.2</td>\n",
       "      <td>0.2</td>\n",
       "      <td>0.8</td>\n",
       "    </tr>\n",
       "  </tbody>\n",
       "</table>\n",
       "</div>"
      ],
      "text/plain": [
       "                        Violencia  Romance  Acao  Comedia\n",
       "Invocacao do Mal              0.6      0.0   0.3      0.0\n",
       "Floresta Maldita              0.9      0.0   0.5      0.1\n",
       "Meu Passado Me Condena        0.1      0.2   0.1      0.9\n",
       "Vizinhos 2                    0.0      0.1   0.2      0.8\n",
       "Deadpool                      0.5      0.0   0.7      0.1\n",
       "Tirando o Atraso              0.0      0.2   0.2      0.8"
      ]
     },
     "execution_count": 10,
     "metadata": {},
     "output_type": "execute_result"
    }
   ],
   "source": [
    "df = pd.DataFrame(data=valores, columns=tipos, index=filmes)\n",
    "df"
   ]
  },
  {
   "cell_type": "code",
   "execution_count": 11,
   "metadata": {},
   "outputs": [],
   "source": [
    "# Criando funcão KNN\n",
    "def dist_euclid(vetor1, vetor2):\n",
    "    de = vetor1 - vetor2\n",
    "    de = de**2\n",
    "    de = de.sum()\n",
    "    de = np.sqrt(de)\n",
    "    return de"
   ]
  },
  {
   "cell_type": "code",
   "execution_count": 12,
   "metadata": {},
   "outputs": [
    {
     "data": {
      "text/plain": [
       "0.37416573867739417"
      ]
     },
     "execution_count": 12,
     "metadata": {},
     "output_type": "execute_result"
    }
   ],
   "source": [
    "dist_euclid(df.iloc[0], df.iloc[1])"
   ]
  },
  {
   "cell_type": "code",
   "execution_count": 13,
   "metadata": {},
   "outputs": [],
   "source": [
    "def knn(dataframe):\n",
    "    array = np.zeros([dataframe.shape[0],dataframe.shape[0]])\n",
    "    for i in range(dataframe.shape[0]):\n",
    "        for j in range(dataframe.shape[0]):\n",
    "            if i == j:\n",
    "                continue\n",
    "            if i > j:\n",
    "                array[i][j] = array[j][i]\n",
    "            array[i][j] = dist_euclid(df.iloc[i], df.iloc[j])\n",
    "    return np.round(array, 2)"
   ]
  },
  {
   "cell_type": "code",
   "execution_count": 14,
   "metadata": {},
   "outputs": [
    {
     "data": {
      "text/plain": [
       "array([[0.  , 0.37, 1.07, 1.01, 0.42, 1.02],\n",
       "       [0.37, 0.  , 1.22, 1.18, 0.45, 1.2 ],\n",
       "       [1.07, 1.22, 0.  , 0.2 , 1.1 , 0.17],\n",
       "       [1.01, 1.18, 0.2 , 0.  , 1.  , 0.1 ],\n",
       "       [0.42, 0.45, 1.1 , 1.  , 0.  , 1.01],\n",
       "       [1.02, 1.2 , 0.17, 0.1 , 1.01, 0.  ]])"
      ]
     },
     "execution_count": 14,
     "metadata": {},
     "output_type": "execute_result"
    }
   ],
   "source": [
    "array = knn(df)\n",
    "array"
   ]
  },
  {
   "cell_type": "code",
   "execution_count": 15,
   "metadata": {},
   "outputs": [
    {
     "data": {
      "text/html": [
       "<div>\n",
       "<style scoped>\n",
       "    .dataframe tbody tr th:only-of-type {\n",
       "        vertical-align: middle;\n",
       "    }\n",
       "\n",
       "    .dataframe tbody tr th {\n",
       "        vertical-align: top;\n",
       "    }\n",
       "\n",
       "    .dataframe thead th {\n",
       "        text-align: right;\n",
       "    }\n",
       "</style>\n",
       "<table border=\"1\" class=\"dataframe\">\n",
       "  <thead>\n",
       "    <tr style=\"text-align: right;\">\n",
       "      <th></th>\n",
       "      <th>Invocacao do Mal</th>\n",
       "      <th>Floresta Maldita</th>\n",
       "      <th>Meu Passado Me Condena</th>\n",
       "      <th>Vizinhos 2</th>\n",
       "      <th>Deadpool</th>\n",
       "      <th>Tirando o Atraso</th>\n",
       "    </tr>\n",
       "  </thead>\n",
       "  <tbody>\n",
       "    <tr>\n",
       "      <th>Invocacao do Mal</th>\n",
       "      <td>0.00</td>\n",
       "      <td>0.37</td>\n",
       "      <td>1.07</td>\n",
       "      <td>1.01</td>\n",
       "      <td>0.42</td>\n",
       "      <td>1.02</td>\n",
       "    </tr>\n",
       "    <tr>\n",
       "      <th>Floresta Maldita</th>\n",
       "      <td>0.37</td>\n",
       "      <td>0.00</td>\n",
       "      <td>1.22</td>\n",
       "      <td>1.18</td>\n",
       "      <td>0.45</td>\n",
       "      <td>1.20</td>\n",
       "    </tr>\n",
       "    <tr>\n",
       "      <th>Meu Passado Me Condena</th>\n",
       "      <td>1.07</td>\n",
       "      <td>1.22</td>\n",
       "      <td>0.00</td>\n",
       "      <td>0.20</td>\n",
       "      <td>1.10</td>\n",
       "      <td>0.17</td>\n",
       "    </tr>\n",
       "    <tr>\n",
       "      <th>Vizinhos 2</th>\n",
       "      <td>1.01</td>\n",
       "      <td>1.18</td>\n",
       "      <td>0.20</td>\n",
       "      <td>0.00</td>\n",
       "      <td>1.00</td>\n",
       "      <td>0.10</td>\n",
       "    </tr>\n",
       "    <tr>\n",
       "      <th>Deadpool</th>\n",
       "      <td>0.42</td>\n",
       "      <td>0.45</td>\n",
       "      <td>1.10</td>\n",
       "      <td>1.00</td>\n",
       "      <td>0.00</td>\n",
       "      <td>1.01</td>\n",
       "    </tr>\n",
       "    <tr>\n",
       "      <th>Tirando o Atraso</th>\n",
       "      <td>1.02</td>\n",
       "      <td>1.20</td>\n",
       "      <td>0.17</td>\n",
       "      <td>0.10</td>\n",
       "      <td>1.01</td>\n",
       "      <td>0.00</td>\n",
       "    </tr>\n",
       "  </tbody>\n",
       "</table>\n",
       "</div>"
      ],
      "text/plain": [
       "                        Invocacao do Mal  Floresta Maldita  \\\n",
       "Invocacao do Mal                    0.00              0.37   \n",
       "Floresta Maldita                    0.37              0.00   \n",
       "Meu Passado Me Condena              1.07              1.22   \n",
       "Vizinhos 2                          1.01              1.18   \n",
       "Deadpool                            0.42              0.45   \n",
       "Tirando o Atraso                    1.02              1.20   \n",
       "\n",
       "                        Meu Passado Me Condena  Vizinhos 2  Deadpool  \\\n",
       "Invocacao do Mal                          1.07        1.01      0.42   \n",
       "Floresta Maldita                          1.22        1.18      0.45   \n",
       "Meu Passado Me Condena                    0.00        0.20      1.10   \n",
       "Vizinhos 2                                0.20        0.00      1.00   \n",
       "Deadpool                                  1.10        1.00      0.00   \n",
       "Tirando o Atraso                          0.17        0.10      1.01   \n",
       "\n",
       "                        Tirando o Atraso  \n",
       "Invocacao do Mal                    1.02  \n",
       "Floresta Maldita                    1.20  \n",
       "Meu Passado Me Condena              0.17  \n",
       "Vizinhos 2                          0.10  \n",
       "Deadpool                            1.01  \n",
       "Tirando o Atraso                    0.00  "
      ]
     },
     "execution_count": 15,
     "metadata": {},
     "output_type": "execute_result"
    }
   ],
   "source": [
    "df_distancias = pd.DataFrame(array, index=filmes, columns=filmes)\n",
    "df_distancias"
   ]
  },
  {
   "cell_type": "code",
   "execution_count": 16,
   "metadata": {},
   "outputs": [
    {
     "data": {
      "text/plain": [
       "0.1"
      ]
     },
     "execution_count": 16,
     "metadata": {},
     "output_type": "execute_result"
    }
   ],
   "source": [
    "minval = np.min(array[np.nonzero(array)])\n",
    "minval"
   ]
  },
  {
   "cell_type": "markdown",
   "metadata": {},
   "source": [
    "## Os filmes mais próximos de acordo com a tabela são:\n",
    "\n",
    "### Vizinhos 2 e Tirando o Atraso:\n",
    "\n",
    "Caso alguém assista algum desses filmes é sugerível recomendar o filme com menor distância euclidiana"
   ]
  },
  {
   "cell_type": "code",
   "execution_count": null,
   "metadata": {},
   "outputs": [],
   "source": []
  }
 ],
 "metadata": {
  "kernelspec": {
   "display_name": "Python 3",
   "language": "python",
   "name": "python3"
  },
  "language_info": {
   "codemirror_mode": {
    "name": "ipython",
    "version": 3
   },
   "file_extension": ".py",
   "mimetype": "text/x-python",
   "name": "python",
   "nbconvert_exporter": "python",
   "pygments_lexer": "ipython3",
   "version": "3.6.5"
  }
 },
 "nbformat": 4,
 "nbformat_minor": 2
}
