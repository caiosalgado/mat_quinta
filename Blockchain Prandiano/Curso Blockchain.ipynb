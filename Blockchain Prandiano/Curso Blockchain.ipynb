{
 "cells": [
  {
   "cell_type": "markdown",
   "metadata": {},
   "source": [
    "# Funcao Hash"
   ]
  },
  {
   "cell_type": "code",
   "execution_count": 1,
   "metadata": {},
   "outputs": [],
   "source": [
    "import hashlib"
   ]
  },
  {
   "cell_type": "code",
   "execution_count": 6,
   "metadata": {},
   "outputs": [
    {
     "data": {
      "text/plain": [
       "'d989d9aa059d7e549b05e0ff817f1641941a6648712d2d0a78ef599e6548c14f'"
      ]
     },
     "execution_count": 6,
     "metadata": {},
     "output_type": "execute_result"
    }
   ],
   "source": [
    "texto = \"Curso de Blockchain Prandiano\"\n",
    "hashlib.sha256(texto.encode()).hexdigest()"
   ]
  },
  {
   "cell_type": "code",
   "execution_count": 7,
   "metadata": {},
   "outputs": [
    {
     "data": {
      "text/plain": [
       "'bf53c10ec1b5cdbe7601204935f16b7183cccedc9da014679bf1de03cf68eba4'"
      ]
     },
     "execution_count": 7,
     "metadata": {},
     "output_type": "execute_result"
    }
   ],
   "source": [
    "texto = \"Curso de Blockchaim Prandiano\"\n",
    "hashlib.sha256(texto.encode()).hexdigest()"
   ]
  },
  {
   "cell_type": "code",
   "execution_count": 24,
   "metadata": {},
   "outputs": [],
   "source": [
    "def prand_hash(texto):\n",
    "    return hashlib.sha256(texto.encode()).hexdigest()"
   ]
  },
  {
   "cell_type": "code",
   "execution_count": 26,
   "metadata": {},
   "outputs": [
    {
     "data": {
      "text/plain": [
       "'bf53c10ec1b5cdbe7601204935f16b7183cccedc9da014679bf1de03cf68eba4'"
      ]
     },
     "execution_count": 26,
     "metadata": {},
     "output_type": "execute_result"
    }
   ],
   "source": [
    "prand_hash('Curso de Blockchaim Prandiano')"
   ]
  },
  {
   "cell_type": "markdown",
   "metadata": {},
   "source": [
    "# Funcao Desarranjos"
   ]
  },
  {
   "cell_type": "code",
   "execution_count": 9,
   "metadata": {},
   "outputs": [],
   "source": [
    "import itertools"
   ]
  },
  {
   "cell_type": "code",
   "execution_count": 18,
   "metadata": {},
   "outputs": [
    {
     "data": {
      "text/plain": [
       "[('A', 'B', 'C'),\n",
       " ('A', 'C', 'B'),\n",
       " ('B', 'A', 'C'),\n",
       " ('B', 'C', 'A'),\n",
       " ('C', 'A', 'B'),\n",
       " ('C', 'B', 'A')]"
      ]
     },
     "execution_count": 18,
     "metadata": {},
     "output_type": "execute_result"
    }
   ],
   "source": [
    "list(itertools.permutations(['A', 'B', 'C'], 3))"
   ]
  },
  {
   "cell_type": "code",
   "execution_count": 22,
   "metadata": {
    "collapsed": true,
    "jupyter": {
     "outputs_hidden": true
    }
   },
   "outputs": [
    {
     "data": {
      "text/plain": [
       "[('B', 'A', 'D', 'E', 'C'),\n",
       " ('B', 'A', 'E', 'C', 'D'),\n",
       " ('B', 'C', 'A', 'E', 'D'),\n",
       " ('B', 'C', 'D', 'E', 'A'),\n",
       " ('B', 'C', 'E', 'A', 'D'),\n",
       " ('B', 'D', 'A', 'E', 'C'),\n",
       " ('B', 'D', 'E', 'A', 'C'),\n",
       " ('B', 'D', 'E', 'C', 'A'),\n",
       " ('B', 'E', 'A', 'C', 'D'),\n",
       " ('B', 'E', 'D', 'A', 'C'),\n",
       " ('B', 'E', 'D', 'C', 'A'),\n",
       " ('C', 'A', 'B', 'E', 'D'),\n",
       " ('C', 'A', 'D', 'E', 'B'),\n",
       " ('C', 'A', 'E', 'B', 'D'),\n",
       " ('C', 'D', 'A', 'E', 'B'),\n",
       " ('C', 'D', 'B', 'E', 'A'),\n",
       " ('C', 'D', 'E', 'A', 'B'),\n",
       " ('C', 'D', 'E', 'B', 'A'),\n",
       " ('C', 'E', 'A', 'B', 'D'),\n",
       " ('C', 'E', 'B', 'A', 'D'),\n",
       " ('C', 'E', 'D', 'A', 'B'),\n",
       " ('C', 'E', 'D', 'B', 'A'),\n",
       " ('D', 'A', 'B', 'E', 'C'),\n",
       " ('D', 'A', 'E', 'B', 'C'),\n",
       " ('D', 'A', 'E', 'C', 'B'),\n",
       " ('D', 'C', 'A', 'E', 'B'),\n",
       " ('D', 'C', 'B', 'E', 'A'),\n",
       " ('D', 'C', 'E', 'A', 'B'),\n",
       " ('D', 'C', 'E', 'B', 'A'),\n",
       " ('D', 'E', 'A', 'B', 'C'),\n",
       " ('D', 'E', 'A', 'C', 'B'),\n",
       " ('D', 'E', 'B', 'A', 'C'),\n",
       " ('D', 'E', 'B', 'C', 'A'),\n",
       " ('E', 'A', 'B', 'C', 'D'),\n",
       " ('E', 'A', 'D', 'B', 'C'),\n",
       " ('E', 'A', 'D', 'C', 'B'),\n",
       " ('E', 'C', 'A', 'B', 'D'),\n",
       " ('E', 'C', 'B', 'A', 'D'),\n",
       " ('E', 'C', 'D', 'A', 'B'),\n",
       " ('E', 'C', 'D', 'B', 'A'),\n",
       " ('E', 'D', 'A', 'B', 'C'),\n",
       " ('E', 'D', 'A', 'C', 'B'),\n",
       " ('E', 'D', 'B', 'A', 'C'),\n",
       " ('E', 'D', 'B', 'C', 'A')]"
      ]
     },
     "execution_count": 22,
     "metadata": {},
     "output_type": "execute_result"
    }
   ],
   "source": [
    "arranjos_validos = []\n",
    "posicao_original = ['A', 'B', 'C', 'D', 'E']\n",
    "for arranjo in itertools.permutations(posicao_original, len(posicao_original)):\n",
    "    todo_diferente = True\n",
    "    for a, b in zip(posicao_original, arranjo):\n",
    "        if a == b:\n",
    "            todo_diferente = False\n",
    "            break\n",
    "    if todo_diferente:\n",
    "        arranjos_validos.append(arranjo)\n",
    "arranjos_validos"
   ]
  },
  {
   "cell_type": "code",
   "execution_count": 23,
   "metadata": {},
   "outputs": [
    {
     "data": {
      "text/plain": [
       "44"
      ]
     },
     "execution_count": 23,
     "metadata": {},
     "output_type": "execute_result"
    }
   ],
   "source": [
    "len(arranjos_validos)"
   ]
  },
  {
   "cell_type": "code",
   "execution_count": 71,
   "metadata": {},
   "outputs": [],
   "source": [
    "def prand_desarranjo_1(lista):\n",
    "    arranjos_validos = []\n",
    "    posicao_original = lista\n",
    "    for arranjo in itertools.permutations(posicao_original, len(posicao_original)):\n",
    "        todo_diferente = True\n",
    "        for a, b in zip(posicao_original, arranjo):\n",
    "            if a == b:\n",
    "                todo_diferente = False\n",
    "                break\n",
    "        if todo_diferente:\n",
    "            arranjos_validos.append(arranjo)\n",
    "    return arranjos_validos"
   ]
  },
  {
   "cell_type": "code",
   "execution_count": 33,
   "metadata": {},
   "outputs": [
    {
     "data": {
      "text/plain": [
       "[('B', 'A', 'D', 'C'),\n",
       " ('B', 'C', 'D', 'A'),\n",
       " ('B', 'D', 'A', 'C'),\n",
       " ('C', 'A', 'D', 'B'),\n",
       " ('C', 'D', 'A', 'B'),\n",
       " ('C', 'D', 'B', 'A'),\n",
       " ('D', 'A', 'B', 'C'),\n",
       " ('D', 'C', 'A', 'B'),\n",
       " ('D', 'C', 'B', 'A')]"
      ]
     },
     "execution_count": 33,
     "metadata": {},
     "output_type": "execute_result"
    }
   ],
   "source": [
    "prand_desarranjo(['A', 'B', 'C', 'D'])"
   ]
  },
  {
   "cell_type": "code",
   "execution_count": 49,
   "metadata": {},
   "outputs": [
    {
     "data": {
      "text/plain": [
       "[('b', 'a', 'd', 'c'),\n",
       " ('b', 'c', 'd', 'a'),\n",
       " ('b', 'd', 'a', 'c'),\n",
       " ('c', 'a', 'd', 'b'),\n",
       " ('c', 'd', 'a', 'b'),\n",
       " ('c', 'd', 'b', 'a'),\n",
       " ('d', 'a', 'b', 'c'),\n",
       " ('d', 'c', 'a', 'b'),\n",
       " ('d', 'c', 'b', 'a')]"
      ]
     },
     "execution_count": 49,
     "metadata": {},
     "output_type": "execute_result"
    }
   ],
   "source": [
    "posicao_original = 'abcd'\n",
    "arranjo = itertools.permutations(posicao_original, len(posicao_original))\n",
    "desarranjo = [  x for i, x in enumerate(arranjo) if all([posicao_original[i] != a for i, a in enumerate(x)])]\n",
    "desarranjo"
   ]
  },
  {
   "cell_type": "code",
   "execution_count": 52,
   "metadata": {},
   "outputs": [],
   "source": [
    "def prand_desaranjo_2(lista):\n",
    "    posicao_original = lista\n",
    "    arranjo = itertools.permutations(posicao_original, len(posicao_original))\n",
    "    desarranjo = [  x for i, x in enumerate(arranjo) if all([posicao_original[i] != a for i, a in enumerate(x)])]\n",
    "    desarranjo"
   ]
  },
  {
   "cell_type": "code",
   "execution_count": 65,
   "metadata": {},
   "outputs": [
    {
     "name": "stdout",
     "output_type": "stream",
     "text": [
      "124 ms ± 11.8 ms per loop (mean ± std. dev. of 7 runs, 10 loops each)\n"
     ]
    }
   ],
   "source": [
    "%%timeit\n",
    "prand_desaranjo_2('abcdefgh')"
   ]
  },
  {
   "cell_type": "code",
   "execution_count": 66,
   "metadata": {},
   "outputs": [
    {
     "name": "stdout",
     "output_type": "stream",
     "text": [
      "79 ms ± 3.45 ms per loop (mean ± std. dev. of 7 runs, 10 loops each)\n"
     ]
    }
   ],
   "source": [
    "%%timeit\n",
    "prand_desarranjo_1('abcdefgh')"
   ]
  },
  {
   "cell_type": "code",
   "execution_count": 70,
   "metadata": {},
   "outputs": [
    {
     "name": "stdout",
     "output_type": "stream",
     "text": [
      "47.7 ms ± 1.47 ms per loop (mean ± std. dev. of 7 runs, 10 loops each)\n"
     ]
    }
   ],
   "source": [
    "%%timeit\n",
    "prand_desarranjo_1('abcdefgh')"
   ]
  },
  {
   "attachments": {
    "3f310de7-7d79-448b-a561-dd6f174b3c93.png": {
     "image/png": "[encoded data removed]"
    }
   },
   "cell_type": "markdown",
   "metadata": {},
   "source": [
    "# Funcao Subfatorial\n",
    "![image.png](attachment:3f310de7-7d79-448b-a561-dd6f174b3c93.png)"
   ]
  },
  {
   "cell_type": "code",
   "execution_count": 72,
   "metadata": {},
   "outputs": [],
   "source": [
    "dicionario_subfatorial = {}\n",
    "dicionario_subfatorial[0] = 1\n",
    "dicionario_subfatorial[1] = 0"
   ]
  },
  {
   "cell_type": "code",
   "execution_count": 73,
   "metadata": {},
   "outputs": [],
   "source": [
    "dicionario_fatorial = {}\n",
    "dicionario_fatorial[0] = 1\n",
    "dicionario_fatorial[1] = 1"
   ]
  },
  {
   "cell_type": "code",
   "execution_count": 80,
   "metadata": {},
   "outputs": [],
   "source": [
    "# http://www.maths.surrey.ac.uk/hosted-sites/R.Knott/Fibonacci/fibmaths.html\n",
    "def fibonacci(n):\n",
    "    if n == 0:\n",
    "        return 0\n",
    "    elif n == 1:\n",
    "        return 1\n",
    "    else:\n",
    "        return fibonacci(n-1) + fibonacci(n-2)"
   ]
  },
  {
   "cell_type": "code",
   "execution_count": 107,
   "metadata": {},
   "outputs": [
    {
     "data": {
      "text/plain": [
       "144"
      ]
     },
     "execution_count": 107,
     "metadata": {},
     "output_type": "execute_result"
    }
   ],
   "source": [
    "fibonacci(12)"
   ]
  },
  {
   "cell_type": "code",
   "execution_count": 123,
   "metadata": {},
   "outputs": [],
   "source": [
    "fibs = [0, 1]\n",
    "def fibonacci(n):\n",
    "    for i in range(len(fibs), n + 1):\n",
    "        fibs.append(fibs[-1] + fibs[-2])\n",
    "    return fibs[n]"
   ]
  },
  {
   "cell_type": "code",
   "execution_count": 134,
   "metadata": {},
   "outputs": [],
   "source": [
    "lista_fatoriais = [1, 1]\n",
    "def prand_fact(n):\n",
    "    resultado = 1\n",
    "    for i in range(2, n+1):\n",
    "        resultado *= i\n",
    "    return resultado"
   ]
  },
  {
   "cell_type": "code",
   "execution_count": 138,
   "metadata": {},
   "outputs": [
    {
     "data": {
      "text/plain": [
       "3628800"
      ]
     },
     "execution_count": 138,
     "metadata": {},
     "output_type": "execute_result"
    }
   ],
   "source": [
    "prand_fact(10)"
   ]
  },
  {
   "cell_type": "code",
   "execution_count": 169,
   "metadata": {},
   "outputs": [
    {
     "name": "stdout",
     "output_type": "stream",
     "text": [
      "calculamos esse resultado, o subfatorial de 6 é 265\n"
     ]
    }
   ],
   "source": [
    "# criar um dicionario de valores\n",
    "# se existir, retorne\n",
    "# se nao existir, crie a partir do ultimo resultado do dicionario de valore até o valor alvo\n",
    "n = 6\n",
    "sub_fatoriais = {0:1, 1:0}\n",
    "sub_fatoriais_calculados = sub_fatoriais.keys()\n",
    "ultimo_resultado = max(sub_fatoriais_calculados)\n",
    "if n in sub_fatoriais_calculados:\n",
    "    print(f'temos esse resultado, o subfatorial de {n} é {sub_fatoriais[n]}')\n",
    "else:\n",
    "    for sub in range(ultimo_resultado + 1, n+1):\n",
    "        sub_fatoriais[sub] = (sub - 1)*(sub_fatoriais[sub-1] + sub_fatoriais[sub-2])\n",
    "    print(f'calculamos esse resultado, o subfatorial de {n} é {sub_fatoriais[n]}')"
   ]
  },
  {
   "cell_type": "code",
   "execution_count": 177,
   "metadata": {},
   "outputs": [],
   "source": [
    "sub_fatoriais = {0:1, 1:0}\n",
    "def prand_subfatorial(n):\n",
    "    sub_fatoriais_calculados = sub_fatoriais.keys()\n",
    "    ultimo_resultado = max(sub_fatoriais_calculados)\n",
    "    if n in sub_fatoriais_calculados:\n",
    "        print(f'temos esse resultado, o subfatorial de {n} é {sub_fatoriais[n]}')\n",
    "    else:\n",
    "        for sub in range(ultimo_resultado + 1, n+1):\n",
    "            sub_fatoriais[sub] = (sub - 1)*(sub_fatoriais[sub-1] + sub_fatoriais[sub-2])\n",
    "        print(f'calculamos esse resultado, o subfatorial de {n} é {sub_fatoriais[n]}')\n",
    "    return sub_fatoriais[n]"
   ]
  },
  {
   "cell_type": "code",
   "execution_count": 171,
   "metadata": {},
   "outputs": [
    {
     "name": "stdout",
     "output_type": "stream",
     "text": [
      "calculamos esse resultado, o subfatorial de 3 é 2\n"
     ]
    }
   ],
   "source": [
    "prand_subfatorial(3)"
   ]
  },
  {
   "cell_type": "code",
   "execution_count": 172,
   "metadata": {},
   "outputs": [
    {
     "name": "stdout",
     "output_type": "stream",
     "text": [
      "temos esse resultado, o subfatorial de 3 é 2\n"
     ]
    }
   ],
   "source": [
    "prand_subfatorial(3)"
   ]
  },
  {
   "cell_type": "code",
   "execution_count": 173,
   "metadata": {},
   "outputs": [
    {
     "name": "stdout",
     "output_type": "stream",
     "text": [
      "calculamos esse resultado, o subfatorial de 30 é 97581073836835777732377428235481\n"
     ]
    }
   ],
   "source": [
    "prand_subfatorial(30)"
   ]
  },
  {
   "cell_type": "code",
   "execution_count": 178,
   "metadata": {},
   "outputs": [
    {
     "name": "stdout",
     "output_type": "stream",
     "text": [
      "calculamos esse resultado, o subfatorial de 30 é 97581073836835777732377428235481\n"
     ]
    },
    {
     "data": {
      "text/plain": [
       "2.718281828459045"
      ]
     },
     "execution_count": 178,
     "metadata": {},
     "output_type": "execute_result"
    }
   ],
   "source": [
    "prand_fact(30) / prand_subfatorial(30)"
   ]
  },
  {
   "cell_type": "code",
   "execution_count": null,
   "metadata": {},
   "outputs": [],
   "source": [
    "fatoriais = [prand_fact(x) for x in range(20)]"
   ]
  },
  {
   "cell_type": "code",
   "execution_count": 179,
   "metadata": {},
   "outputs": [],
   "source": [
    "import math"
   ]
  },
  {
   "cell_type": "code",
   "execution_count": 180,
   "metadata": {},
   "outputs": [
    {
     "data": {
      "text/plain": [
       "2.718281828459045"
      ]
     },
     "execution_count": 180,
     "metadata": {},
     "output_type": "execute_result"
    }
   ],
   "source": [
    "math.e"
   ]
  },
  {
   "cell_type": "code",
   "execution_count": 186,
   "metadata": {},
   "outputs": [
    {
     "name": "stdout",
     "output_type": "stream",
     "text": [
      "temos esse resultado, o subfatorial de 18 é 2355301661033953\n"
     ]
    },
    {
     "data": {
      "text/plain": [
       "2.718281828459045"
      ]
     },
     "execution_count": 186,
     "metadata": {},
     "output_type": "execute_result"
    }
   ],
   "source": [
    "n = 18\n",
    "prand_fact(n) / prand_subfatorial(n)"
   ]
  },
  {
   "cell_type": "code",
   "execution_count": 206,
   "metadata": {},
   "outputs": [
    {
     "data": {
      "text/plain": [
       "[<matplotlib.lines.Line2D at 0x7f848745fd00>]"
      ]
     },
     "execution_count": 206,
     "metadata": {},
     "output_type": "execute_result"
    },
    {
     "data": {
      "image/png": "[encoded data removed]",
      "text/plain": [
       "<Figure size 432x288 with 1 Axes>"
      ]
     },
     "metadata": {
      "needs_background": "light"
     },
     "output_type": "display_data"
    }
   ],
   "source": [
    "plt.plot(list(sub_fatoriais.values())[:20])\n",
    "plt.plot(fatoriais)"
   ]
  },
  {
   "cell_type": "code",
   "execution_count": 205,
   "metadata": {},
   "outputs": [
    {
     "data": {
      "text/plain": [
       "[1,\n",
       " 1,\n",
       " 2,\n",
       " 6,\n",
       " 24,\n",
       " 120,\n",
       " 720,\n",
       " 5040,\n",
       " 40320,\n",
       " 362880,\n",
       " 3628800,\n",
       " 39916800,\n",
       " 479001600,\n",
       " 6227020800,\n",
       " 87178291200,\n",
       " 1307674368000,\n",
       " 20922789888000,\n",
       " 355687428096000,\n",
       " 6402373705728000,\n",
       " 121645100408832000]"
      ]
     },
     "execution_count": 205,
     "metadata": {},
     "output_type": "execute_result"
    }
   ],
   "source": [
    "fatoriais"
   ]
  },
  {
   "cell_type": "code",
   "execution_count": 200,
   "metadata": {},
   "outputs": [
    {
     "data": {
      "text/plain": [
       "[1, 0, 1, 2, 9, 44, 265, 1854, 14833, 133496]"
      ]
     },
     "execution_count": 200,
     "metadata": {},
     "output_type": "execute_result"
    }
   ],
   "source": [
    "list(sub_fatoriais.values())[:10]"
   ]
  },
  {
   "cell_type": "code",
   "execution_count": 201,
   "metadata": {},
   "outputs": [
    {
     "data": {
      "text/plain": [
       "2.6666666666666665"
      ]
     },
     "execution_count": 201,
     "metadata": {},
     "output_type": "execute_result"
    }
   ],
   "source": [
    "24/9"
   ]
  },
  {
   "cell_type": "code",
   "execution_count": 202,
   "metadata": {},
   "outputs": [
    {
     "data": {
      "text/plain": [
       "2.727272727272727"
      ]
     },
     "execution_count": 202,
     "metadata": {},
     "output_type": "execute_result"
    }
   ],
   "source": [
    "120/44"
   ]
  },
  {
   "cell_type": "code",
   "execution_count": 203,
   "metadata": {},
   "outputs": [
    {
     "data": {
      "text/plain": [
       "2.7169811320754715"
      ]
     },
     "execution_count": 203,
     "metadata": {},
     "output_type": "execute_result"
    }
   ],
   "source": [
    "720/265"
   ]
  },
  {
   "cell_type": "markdown",
   "metadata": {},
   "source": [
    "# Funcao Alfa"
   ]
  },
  {
   "cell_type": "code",
   "execution_count": 239,
   "metadata": {},
   "outputs": [],
   "source": [
    "dicionario_alfas = {0:[1,1]}"
   ]
  },
  {
   "cell_type": "code",
   "execution_count": 244,
   "metadata": {},
   "outputs": [
    {
     "name": "stdout",
     "output_type": "stream",
     "text": [
      "temos o valor, o resultado é [48, 105]\n"
     ]
    },
    {
     "data": {
      "text/plain": [
       "[48, 105]"
      ]
     },
     "execution_count": 244,
     "metadata": {},
     "output_type": "execute_result"
    }
   ],
   "source": [
    "n = 3\n",
    "# verificar se temos o alfa nas chaves do dicionario\n",
    "chaves = dicionario_alfas.keys()\n",
    "if n in chaves:\n",
    "    print(f'temos o valor, o resultado é {dicionario_alfas[n]}')\n",
    "else:\n",
    "    maximo = max(chaves)\n",
    "    #print('maximo == ', maximo)\n",
    "    for i in range(maximo+1, n+1):\n",
    "        #print('i == ', i)\n",
    "        numerador = (2*i) * dicionario_alfas[i-1][0]\n",
    "        denominador = (2*i + 1) * dicionario_alfas[i-1][1]\n",
    "        dicionario_alfas[i] = [numerador, denominador]\n",
    "dicionario_alfas[n]"
   ]
  },
  {
   "cell_type": "code",
   "execution_count": 249,
   "metadata": {},
   "outputs": [],
   "source": [
    "dicionario_alfas = {0:[1,1]}\n",
    "def prand_alpha(n):\n",
    "    chaves = dicionario_alfas.keys()\n",
    "    if n in chaves:\n",
    "        return dicionario_alfas[n]\n",
    "    else:\n",
    "        maximo = max(chaves)\n",
    "        for i in range(maximo+1, n+1):\n",
    "            numerador = (2*i) * dicionario_alfas[i-1][0]\n",
    "            denominador = (2*i + 1) * dicionario_alfas[i-1][1]\n",
    "            dicionario_alfas[i] = [numerador, denominador]\n",
    "    return dicionario_alfas[n]"
   ]
  },
  {
   "cell_type": "code",
   "execution_count": 250,
   "metadata": {},
   "outputs": [
    {
     "data": {
      "text/plain": [
       "{0: [1, 1]}"
      ]
     },
     "execution_count": 250,
     "metadata": {},
     "output_type": "execute_result"
    }
   ],
   "source": [
    "dicionario_alfas"
   ]
  },
  {
   "cell_type": "code",
   "execution_count": 251,
   "metadata": {},
   "outputs": [
    {
     "data": {
      "text/plain": [
       "[384, 945]"
      ]
     },
     "execution_count": 251,
     "metadata": {},
     "output_type": "execute_result"
    }
   ],
   "source": [
    "prand_alpha(4)"
   ]
  },
  {
   "cell_type": "code",
   "execution_count": 252,
   "metadata": {},
   "outputs": [
    {
     "data": {
      "text/plain": [
       "{0: [1, 1], 1: [2, 3], 2: [8, 15], 3: [48, 105], 4: [384, 945]}"
      ]
     },
     "execution_count": 252,
     "metadata": {},
     "output_type": "execute_result"
    }
   ],
   "source": [
    "dicionario_alfas"
   ]
  },
  {
   "cell_type": "code",
   "execution_count": 253,
   "metadata": {},
   "outputs": [
    {
     "data": {
      "text/plain": [
       "4294967296"
      ]
     },
     "execution_count": 253,
     "metadata": {},
     "output_type": "execute_result"
    }
   ],
   "source": [
    "2**32"
   ]
  },
  {
   "cell_type": "markdown",
   "metadata": {},
   "source": [
    "# Função Hexadecimal"
   ]
  },
  {
   "cell_type": "code",
   "execution_count": 254,
   "metadata": {},
   "outputs": [],
   "source": [
    "dicionario_num_to_hex = {10:'a', 11:'b', 12:'c', 13:'d', 14:'e', 15:'f'}\n",
    "for i in range(10):\n",
    "    dicionario_num_to_hex[i] = str(i)"
   ]
  },
  {
   "cell_type": "code",
   "execution_count": 255,
   "metadata": {
    "collapsed": true,
    "jupyter": {
     "outputs_hidden": true
    }
   },
   "outputs": [
    {
     "data": {
      "text/plain": [
       "{10: 'a',\n",
       " 11: 'b',\n",
       " 12: 'c',\n",
       " 13: 'd',\n",
       " 14: 'e',\n",
       " 15: 'f',\n",
       " 0: '0',\n",
       " 1: '1',\n",
       " 2: '2',\n",
       " 3: '3',\n",
       " 4: '4',\n",
       " 5: '5',\n",
       " 6: '6',\n",
       " 7: '7',\n",
       " 8: '8',\n",
       " 9: '9'}"
      ]
     },
     "execution_count": 255,
     "metadata": {},
     "output_type": "execute_result"
    }
   ],
   "source": [
    "dicionario_num_to_hex"
   ]
  },
  {
   "cell_type": "code",
   "execution_count": 257,
   "metadata": {},
   "outputs": [
    {
     "data": {
      "text/plain": [
       "286"
      ]
     },
     "execution_count": 257,
     "metadata": {},
     "output_type": "execute_result"
    }
   ],
   "source": [
    "4589 // 16"
   ]
  },
  {
   "cell_type": "code",
   "execution_count": 258,
   "metadata": {},
   "outputs": [
    {
     "data": {
      "text/plain": [
       "13"
      ]
     },
     "execution_count": 258,
     "metadata": {},
     "output_type": "execute_result"
    }
   ],
   "source": [
    "4589 % 16"
   ]
  },
  {
   "cell_type": "code",
   "execution_count": 259,
   "metadata": {},
   "outputs": [
    {
     "data": {
      "text/plain": [
       "'d'"
      ]
     },
     "execution_count": 259,
     "metadata": {},
     "output_type": "execute_result"
    }
   ],
   "source": [
    "dicionario_num_to_hex[13]"
   ]
  },
  {
   "cell_type": "code",
   "execution_count": 276,
   "metadata": {},
   "outputs": [
    {
     "data": {
      "text/plain": [
       "'3641d480'"
      ]
     },
     "execution_count": 276,
     "metadata": {},
     "output_type": "execute_result"
    }
   ],
   "source": [
    "n = 910283904\n",
    "resultado_hex = ''\n",
    "divisao = n // 16\n",
    "resto = n % 16\n",
    "resultado_hex += dicionario_num_to_hex[resto]\n",
    "while divisao > 0:\n",
    "    resto = divisao % 16\n",
    "    divisao = divisao // 16\n",
    "    resultado_hex += dicionario_num_to_hex[resto]\n",
    "resultado_hex[::-1]"
   ]
  },
  {
   "cell_type": "code",
   "execution_count": 286,
   "metadata": {},
   "outputs": [],
   "source": [
    "def prand_hex(divisao):\n",
    "    resultado_hex = ''\n",
    "    while divisao > 0:\n",
    "        resto = divisao % 16\n",
    "        divisao = divisao // 16\n",
    "        resultado_hex += dicionario_num_to_hex[resto]\n",
    "    return resultado_hex[::-1]"
   ]
  },
  {
   "cell_type": "code",
   "execution_count": 287,
   "metadata": {},
   "outputs": [
    {
     "data": {
      "text/plain": [
       "'11ed'"
      ]
     },
     "execution_count": 287,
     "metadata": {},
     "output_type": "execute_result"
    }
   ],
   "source": [
    "prand_hex(4589)"
   ]
  },
  {
   "cell_type": "code",
   "execution_count": null,
   "metadata": {},
   "outputs": [],
   "source": []
  },
  {
   "cell_type": "code",
   "execution_count": null,
   "metadata": {},
   "outputs": [],
   "source": []
  },
  {
   "cell_type": "code",
   "execution_count": null,
   "metadata": {},
   "outputs": [],
   "source": []
  }
 ],
 "metadata": {
  "kernelspec": {
   "display_name": "Python 3",
   "language": "python",
   "name": "python3"
  },
  "language_info": {
   "codemirror_mode": {
    "name": "ipython",
    "version": 3
   },
   "file_extension": ".py",
   "mimetype": "text/x-python",
   "name": "python",
   "nbconvert_exporter": "python",
   "pygments_lexer": "ipython3",
   "version": "3.8.5"
  }
 },
 "nbformat": 4,
 "nbformat_minor": 4
}
