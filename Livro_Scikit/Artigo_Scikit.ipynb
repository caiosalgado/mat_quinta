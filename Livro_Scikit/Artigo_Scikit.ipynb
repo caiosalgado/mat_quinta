{
 "cells": [
  {
   "cell_type": "markdown",
   "metadata": {},
   "source": [
    "# Core API\n",
    "\n",
    "1. Estimador (Modelo)\n",
    "\n",
    "Para construir e ajustar os modelos.\n",
    "\n",
    "2. Preditor\n",
    "\n",
    "Para fazer as predições.\n",
    "\n",
    "3. Tranformador\n",
    "\n",
    "Para converter os dados.\n",
    "\n",
    "# Principios\n",
    "\n",
    "1. Consistência\n",
    "\n",
    "Interface composta com métodos limitados.\n",
    "\n",
    "2. Inspeção\n",
    "\n",
    "Parametros públicos\n",
    "\n",
    "3. Não Proliferação de classes\n",
    "\n",
    "Utiliza Numpy, Pandas e SciPy para dados. Strings e numeros para hiperparametros.\n",
    "\n",
    "4. Composição\n",
    "\n",
    "Agilizar a contrução de pipelines\n",
    "\n",
    "5. Padrões sensíveis\n",
    "\n",
    "Todo objeto tem definido padrões iniciais para que o modelo funcione.\n",
    "\n",
    "# Representação dos Dados\n",
    "\n",
    "Usam numpy e scipy e preferem rodar os algoritmo em batches.\n",
    "\n",
    "# Estimators\n",
    "\n",
    "- É uma interface\n",
    "- 2 em 1\n",
    "- Ele tem um estado antes e depois do método `.fit()`\n",
    "- Os hiperparâmetros são públicos\n",
    "- Os parâmetros são públicos\n",
    "- Os hiperparâmetros são passados antes do `.fit()`\n",
    "- A biblioteca sugere hiperparâmetros padrão\n",
    "- Estimadores diferentes são facilmente trocados\n",
    "\n",
    "# Preditores\n",
    "\n",
    "- Observar a performance do modelo\n",
    "- Quanto maior melhor `.score(X_test, y_test)`\n",
    "- Observar a predição do modelo em uma conjunto novo `.predict(X_test)`"
   ]
  },
  {
   "cell_type": "code",
   "execution_count": 2,
   "metadata": {},
   "outputs": [],
   "source": [
    "import pandas as pd"
   ]
  },
  {
   "cell_type": "code",
   "execution_count": 3,
   "metadata": {},
   "outputs": [],
   "source": [
    "from sklearn.datasets import load_iris"
   ]
  },
  {
   "cell_type": "code",
   "execution_count": 4,
   "metadata": {},
   "outputs": [],
   "source": [
    "df = load_iris()"
   ]
  },
  {
   "cell_type": "code",
   "execution_count": 5,
   "metadata": {},
   "outputs": [],
   "source": [
    "y = df.target"
   ]
  },
  {
   "cell_type": "code",
   "execution_count": 6,
   "metadata": {},
   "outputs": [],
   "source": [
    "df = pd.DataFrame(df['data'])"
   ]
  },
  {
   "cell_type": "code",
   "execution_count": 7,
   "metadata": {},
   "outputs": [],
   "source": [
    "X = df.values"
   ]
  },
  {
   "cell_type": "code",
   "execution_count": 8,
   "metadata": {},
   "outputs": [
    {
     "data": {
      "text/html": [
       "<div>\n",
       "<style scoped>\n",
       "    .dataframe tbody tr th:only-of-type {\n",
       "        vertical-align: middle;\n",
       "    }\n",
       "\n",
       "    .dataframe tbody tr th {\n",
       "        vertical-align: top;\n",
       "    }\n",
       "\n",
       "    .dataframe thead th {\n",
       "        text-align: right;\n",
       "    }\n",
       "</style>\n",
       "<table border=\"1\" class=\"dataframe\">\n",
       "  <thead>\n",
       "    <tr style=\"text-align: right;\">\n",
       "      <th></th>\n",
       "      <th>0</th>\n",
       "      <th>1</th>\n",
       "      <th>2</th>\n",
       "      <th>3</th>\n",
       "    </tr>\n",
       "  </thead>\n",
       "  <tbody>\n",
       "    <tr>\n",
       "      <th>0</th>\n",
       "      <td>5.1</td>\n",
       "      <td>3.5</td>\n",
       "      <td>1.4</td>\n",
       "      <td>0.2</td>\n",
       "    </tr>\n",
       "    <tr>\n",
       "      <th>1</th>\n",
       "      <td>4.9</td>\n",
       "      <td>3.0</td>\n",
       "      <td>1.4</td>\n",
       "      <td>0.2</td>\n",
       "    </tr>\n",
       "    <tr>\n",
       "      <th>2</th>\n",
       "      <td>4.7</td>\n",
       "      <td>3.2</td>\n",
       "      <td>1.3</td>\n",
       "      <td>0.2</td>\n",
       "    </tr>\n",
       "    <tr>\n",
       "      <th>3</th>\n",
       "      <td>4.6</td>\n",
       "      <td>3.1</td>\n",
       "      <td>1.5</td>\n",
       "      <td>0.2</td>\n",
       "    </tr>\n",
       "    <tr>\n",
       "      <th>4</th>\n",
       "      <td>5.0</td>\n",
       "      <td>3.6</td>\n",
       "      <td>1.4</td>\n",
       "      <td>0.2</td>\n",
       "    </tr>\n",
       "  </tbody>\n",
       "</table>\n",
       "</div>"
      ],
      "text/plain": [
       "     0    1    2    3\n",
       "0  5.1  3.5  1.4  0.2\n",
       "1  4.9  3.0  1.4  0.2\n",
       "2  4.7  3.2  1.3  0.2\n",
       "3  4.6  3.1  1.5  0.2\n",
       "4  5.0  3.6  1.4  0.2"
      ]
     },
     "execution_count": 8,
     "metadata": {},
     "output_type": "execute_result"
    }
   ],
   "source": [
    "df.head()"
   ]
  },
  {
   "cell_type": "code",
   "execution_count": 9,
   "metadata": {},
   "outputs": [
    {
     "data": {
      "text/plain": [
       "array([0, 0, 0, 0, 0, 0, 0, 0, 0, 0, 0, 0, 0, 0, 0, 0, 0, 0, 0, 0, 0, 0,\n",
       "       0, 0, 0, 0, 0, 0, 0, 0, 0, 0, 0, 0, 0, 0, 0, 0, 0, 0, 0, 0, 0, 0,\n",
       "       0, 0, 0, 0, 0, 0, 1, 1, 1, 1, 1, 1, 1, 1, 1, 1, 1, 1, 1, 1, 1, 1,\n",
       "       1, 1, 1, 1, 1, 1, 1, 1, 1, 1, 1, 1, 1, 1, 1, 1, 1, 1, 1, 1, 1, 1,\n",
       "       1, 1, 1, 1, 1, 1, 1, 1, 1, 1, 1, 1, 2, 2, 2, 2, 2, 2, 2, 2, 2, 2,\n",
       "       2, 2, 2, 2, 2, 2, 2, 2, 2, 2, 2, 2, 2, 2, 2, 2, 2, 2, 2, 2, 2, 2,\n",
       "       2, 2, 2, 2, 2, 2, 2, 2, 2, 2, 2, 2, 2, 2, 2, 2, 2, 2])"
      ]
     },
     "execution_count": 9,
     "metadata": {},
     "output_type": "execute_result"
    }
   ],
   "source": [
    "y"
   ]
  },
  {
   "cell_type": "code",
   "execution_count": 10,
   "metadata": {},
   "outputs": [],
   "source": [
    "# OneVsOne\n",
    "# OneVsRest"
   ]
  },
  {
   "cell_type": "code",
   "execution_count": 11,
   "metadata": {},
   "outputs": [
    {
     "data": {
      "text/plain": [
       "[0, 1, 2, 3, 4, 5, 6, 7, 8, 9]"
      ]
     },
     "execution_count": 11,
     "metadata": {},
     "output_type": "execute_result"
    }
   ],
   "source": [
    "[0, 1, 2, 3, 4, 5, 6, 7, 8, 9]"
   ]
  },
  {
   "cell_type": "code",
   "execution_count": 132,
   "metadata": {},
   "outputs": [
    {
     "data": {
      "text/plain": [
       "Ellipsis"
      ]
     },
     "execution_count": 132,
     "metadata": {},
     "output_type": "execute_result"
    }
   ],
   "source": [
    "# OneVsRest\n",
    "#1 -> 0 contra 1..9 {True:0 , False:[1,2,3,4,5,6,7,8,9]}\n",
    "#2 -> 1 contra 2..0 {True:1 , False:[2,3,4,5,6,7,8,9,0]}\n",
    "#3 -> 2 contra 3..1 {True:2 , False:[3,4,5,6,7,8,9,0,1]}\n",
    "#4 -> ...\n",
    "#9 -> 9 contra 0..8 {True:9 , False:[0..8]}\n",
    "\n",
    "# OneVsOne\n",
    "#1 -> 0 contra 1 80%\n",
    "#2 -> 0 contra 2\n",
    "#3 -> 0 contra 3\n",
    "...\n",
    "#9 -> 0 contra 9\n",
    "#10 -> 1 contra 2\n",
    "#11 -> 1 contra 3\n"
   ]
  },
  {
   "cell_type": "code",
   "execution_count": 13,
   "metadata": {},
   "outputs": [
    {
     "data": {
      "text/plain": [
       "45.0"
      ]
     },
     "execution_count": 13,
     "metadata": {},
     "output_type": "execute_result"
    }
   ],
   "source": [
    "(10*(10-1)) / 2"
   ]
  },
  {
   "cell_type": "code",
   "execution_count": 14,
   "metadata": {},
   "outputs": [],
   "source": [
    "import itertools"
   ]
  },
  {
   "cell_type": "code",
   "execution_count": 15,
   "metadata": {},
   "outputs": [
    {
     "data": {
      "text/plain": [
       "45"
      ]
     },
     "execution_count": 15,
     "metadata": {},
     "output_type": "execute_result"
    }
   ],
   "source": [
    "len(list(itertools.combinations(range(10), 2)))"
   ]
  },
  {
   "cell_type": "code",
   "execution_count": 16,
   "metadata": {},
   "outputs": [
    {
     "data": {
      "text/plain": [
       "(150, 4)"
      ]
     },
     "execution_count": 16,
     "metadata": {},
     "output_type": "execute_result"
    }
   ],
   "source": [
    "df.shape"
   ]
  },
  {
   "cell_type": "code",
   "execution_count": 17,
   "metadata": {},
   "outputs": [],
   "source": [
    "from sklearn.model_selection import train_test_split"
   ]
  },
  {
   "cell_type": "code",
   "execution_count": 18,
   "metadata": {},
   "outputs": [],
   "source": [
    "X_train, X_test, y_train, y_test = train_test_split(X, y, test_size=0.33, random_state=42)"
   ]
  },
  {
   "cell_type": "code",
   "execution_count": 19,
   "metadata": {},
   "outputs": [
    {
     "data": {
      "text/plain": [
       "array([1, 0, 2, 1, 1, 0, 1, 2, 1, 1, 2, 0, 0, 0, 0, 1, 2, 1, 1, 2, 0, 2,\n",
       "       0, 2, 2, 2, 2, 2, 0, 0, 0, 0, 1, 0, 0, 2, 1, 0, 0, 0, 2, 1, 1, 0,\n",
       "       0, 1, 2, 2, 1, 2])"
      ]
     },
     "execution_count": 19,
     "metadata": {},
     "output_type": "execute_result"
    }
   ],
   "source": [
    "y_test"
   ]
  },
  {
   "cell_type": "code",
   "execution_count": 20,
   "metadata": {},
   "outputs": [],
   "source": [
    "from sklearn.preprocessing import StandardScaler"
   ]
  },
  {
   "cell_type": "code",
   "execution_count": 21,
   "metadata": {},
   "outputs": [],
   "source": [
    "scaler = StandardScaler()"
   ]
  },
  {
   "cell_type": "code",
   "execution_count": 22,
   "metadata": {},
   "outputs": [
    {
     "data": {
      "text/plain": [
       "StandardScaler()"
      ]
     },
     "execution_count": 22,
     "metadata": {},
     "output_type": "execute_result"
    }
   ],
   "source": [
    "scaler.fit(X_train)"
   ]
  },
  {
   "cell_type": "code",
   "execution_count": 23,
   "metadata": {},
   "outputs": [
    {
     "data": {
      "text/plain": [
       "array([-0.13835603,  2.14752625, -0.25866563, -0.8602136 ,  2.26783585,\n",
       "       -0.01804644, -0.739904  , -0.98052319, -0.8602136 , -0.98052319,\n",
       "        0.58350153, -1.22114238, -0.98052319, -0.8602136 , -0.25866563,\n",
       "       -0.8602136 , -0.13835603,  2.26783585, -1.46176157,  0.46319194,\n",
       "       -0.13835603, -0.37897522,  0.22257275, -0.01804644,  0.22257275,\n",
       "       -0.49928482,  0.46319194, -0.37897522, -0.49928482, -0.98052319,\n",
       "        0.70381112, -0.98052319, -0.98052319, -0.37897522,  1.06473991,\n",
       "       -1.10083279, -0.01804644, -0.98052319, -0.98052319,  0.10226315,\n",
       "       -0.8602136 ,  1.30535909,  0.22257275,  0.34288234,  2.26783585,\n",
       "       -0.37897522, -1.70238076, -1.82269035,  0.22257275,  1.66628788,\n",
       "       -1.46176157, -0.8602136 , -1.70238076,  0.58350153,  0.58350153,\n",
       "       -1.46176157,  1.1850495 ,  0.58350153, -1.34145197,  0.34288234,\n",
       "        0.82412072,  0.46319194,  1.42566869,  0.70381112, -0.8602136 ,\n",
       "        1.30535909,  0.10226315,  0.82412072, -0.13835603, -0.739904  ,\n",
       "        0.34288234, -1.58207116,  0.94443031, -0.37897522, -0.61959441,\n",
       "       -0.25866563,  1.78659747,  1.06473991, -0.8602136 , -1.10083279,\n",
       "        1.06473991,  1.66628788, -1.10083279,  1.06473991, -1.10083279,\n",
       "        1.30535909,  1.90690706,  0.58350153, -0.13835603,  0.82412072,\n",
       "        0.58350153,  0.70381112, -0.25866563,  0.10226315, -0.49928482,\n",
       "        0.34288234, -1.10083279, -0.01804644, -0.01804644,  1.54597828])"
      ]
     },
     "execution_count": 23,
     "metadata": {},
     "output_type": "execute_result"
    }
   ],
   "source": [
    "(X_train[:, 0] - X_train[:, 0].mean()) / X_train[:, 0].std()"
   ]
  },
  {
   "cell_type": "code",
   "execution_count": 24,
   "metadata": {},
   "outputs": [
    {
     "data": {
      "text/plain": [
       "array([ 0.34288234, -0.13835603,  2.26783585,  0.22257275,  1.1850495 ,\n",
       "       -0.49928482, -0.25866563,  1.30535909,  0.46319194, -0.01804644,\n",
       "        0.82412072, -1.22114238, -0.37897522, -1.10083279, -0.8602136 ,\n",
       "        0.58350153,  0.82412072, -0.25866563, -0.13835603,  0.70381112,\n",
       "       -1.34145197,  0.34288234, -0.98052319,  0.70381112,  2.50845503,\n",
       "        1.06473991,  1.06473991,  1.1850495 , -1.22114238, -1.22114238,\n",
       "       -1.46176157, -0.13835603,  1.06473991, -1.22114238, -1.70238076,\n",
       "        0.58350153,  0.70381112, -0.739904  , -0.98052319, -0.739904  ,\n",
       "       -0.01804644,  0.22257275,  1.06473991, -0.49928482, -0.49928482,\n",
       "       -0.37897522,  0.58350153,  0.70381112,  0.94443031,  1.66628788])"
      ]
     },
     "execution_count": 24,
     "metadata": {},
     "output_type": "execute_result"
    }
   ],
   "source": [
    "(X_test[:, 0] - X_train[:, 0].mean()) / X_train[:, 0].std()"
   ]
  },
  {
   "cell_type": "code",
   "execution_count": 25,
   "metadata": {},
   "outputs": [
    {
     "data": {
      "text/plain": [
       "array([[ 0.34288234, -0.50470526,  0.51173177, -0.02555604],\n",
       "       [-0.13835603,  1.88726279, -1.2249145 , -1.23610527],\n",
       "       [ 2.26783585, -0.98309887,  1.78527236,  1.45400413],\n",
       "       [ 0.22257275, -0.26550845,  0.39595535,  0.37796037],\n",
       "       [ 1.1850495 , -0.50470526,  0.56961997,  0.2434549 ],\n",
       "       [-0.49928482,  0.93047557, -1.34069092, -1.1015998 ],\n",
       "       [-0.25866563, -0.26550845, -0.12503853,  0.10894943],\n",
       "       [ 1.30535909,  0.21288516,  0.7432846 ,  1.45400413],\n",
       "       [ 0.46319194, -1.93988609,  0.39595535,  0.37796037],\n",
       "       [-0.01804644, -0.74390206,  0.0486261 , -0.02555604],\n",
       "       [ 0.82412072,  0.45208196,  0.7432846 ,  1.05048772],\n",
       "       [-1.22114238, -0.02631165, -1.39857913, -1.50511621],\n",
       "       [-0.37897522,  1.16967238, -1.45646733, -1.37061074],\n",
       "       [-1.10083279,  0.21288516, -1.34069092, -1.50511621],\n",
       "       [-0.8602136 ,  1.88726279, -1.34069092, -1.23610527],\n",
       "       [ 0.58350153,  0.69127877,  0.51173177,  0.51246584],\n",
       "       [ 0.82412072, -0.02631165,  1.14850206,  1.31949866],\n",
       "       [-0.25866563, -1.22229567,  0.0486261 , -0.16006151],\n",
       "       [-0.13835603, -0.50470526,  0.39595535,  0.10894943],\n",
       "       [ 0.70381112, -0.50470526,  1.03272565,  1.31949866],\n",
       "       [-1.34145197,  0.45208196, -1.28280271, -1.37061074],\n",
       "       [ 0.34288234, -0.02631165,  0.62750818,  0.78147678],\n",
       "       [-0.98052319,  0.93047557, -1.28280271, -1.1015998 ],\n",
       "       [ 0.70381112, -0.50470526,  1.03272565,  1.18499319],\n",
       "       [ 2.50845503,  1.88726279,  1.49583132,  1.05048772],\n",
       "       [ 1.06473991, -0.02631165,  0.80117281,  1.45400413],\n",
       "       [ 1.06473991, -1.22229567,  1.14850206,  0.78147678],\n",
       "       [ 1.1850495 ,  0.45208196,  1.20639027,  1.45400413],\n",
       "       [-1.22114238, -0.02631165, -1.39857913, -1.23610527],\n",
       "       [-1.22114238,  0.21288516, -1.28280271, -1.37061074],\n",
       "       [-1.46176157,  1.40886918, -1.63013196, -1.37061074],\n",
       "       [-0.13835603,  3.32244363, -1.34069092, -1.1015998 ],\n",
       "       [ 1.06473991,  0.21288516,  0.33806714,  0.2434549 ],\n",
       "       [-1.22114238,  0.93047557, -1.28280271, -1.37061074],\n",
       "       [-1.70238076,  0.45208196, -1.45646733, -1.37061074],\n",
       "       [ 0.58350153, -1.22229567,  0.68539639,  0.91598225],\n",
       "       [ 0.70381112,  0.45208196,  0.39595535,  0.37796037],\n",
       "       [-0.739904  ,  1.16967238, -1.34069092, -1.37061074],\n",
       "       [-0.98052319,  1.40886918, -1.39857913, -1.37061074],\n",
       "       [-0.739904  ,  2.60485321, -1.34069092, -1.50511621],\n",
       "       [-0.01804644, -0.74390206,  0.7432846 ,  0.91598225],\n",
       "       [ 0.22257275,  0.93047557,  0.39595535,  0.51246584],\n",
       "       [ 1.06473991,  0.21288516,  0.51173177,  0.37796037],\n",
       "       [-0.49928482,  2.1264596 , -1.45646733, -1.1015998 ],\n",
       "       [-0.49928482,  1.64806599, -1.34069092, -1.37061074],\n",
       "       [-0.37897522, -1.46149248, -0.06715032, -0.29456698],\n",
       "       [ 0.58350153, -0.50470526,  0.7432846 ,  0.37796037],\n",
       "       [ 0.70381112,  0.21288516,  0.97483744,  0.78147678],\n",
       "       [ 0.94443031, -0.02631165,  0.33806714,  0.2434549 ],\n",
       "       [ 1.66628788,  1.40886918,  1.32216669,  1.72301507]])"
      ]
     },
     "execution_count": 25,
     "metadata": {},
     "output_type": "execute_result"
    }
   ],
   "source": [
    "scaler.transform(X_test)"
   ]
  },
  {
   "cell_type": "code",
   "execution_count": 83,
   "metadata": {},
   "outputs": [],
   "source": [
    "from sklearn.linear_model import LogisticRegression\n",
    "from sklearn.multiclass import OneVsOneClassifier, OneVsRestClassifier"
   ]
  },
  {
   "cell_type": "code",
   "execution_count": 31,
   "metadata": {},
   "outputs": [],
   "source": [
    "lg1 = LogisticRegression(penalty=\"l1\", solver='liblinear')\n",
    "lg2 = OneVsOneClassifier(LogisticRegression(penalty=\"l1\", solver='liblinear'))"
   ]
  },
  {
   "cell_type": "code",
   "execution_count": 32,
   "metadata": {},
   "outputs": [
    {
     "data": {
      "text/plain": [
       "OneVsOneClassifier(estimator=LogisticRegression(penalty='l1',\n",
       "                                                solver='liblinear'))"
      ]
     },
     "execution_count": 32,
     "metadata": {},
     "output_type": "execute_result"
    }
   ],
   "source": [
    "lg1.fit(X_train, y_train)\n",
    "lg2.fit(X_train, y_train)"
   ]
  },
  {
   "cell_type": "code",
   "execution_count": 33,
   "metadata": {},
   "outputs": [
    {
     "data": {
      "text/plain": [
       "0.96"
      ]
     },
     "execution_count": 33,
     "metadata": {},
     "output_type": "execute_result"
    }
   ],
   "source": [
    "lg1.score(X_train, y_train)"
   ]
  },
  {
   "cell_type": "code",
   "execution_count": 34,
   "metadata": {},
   "outputs": [
    {
     "data": {
      "text/plain": [
       "0.96"
      ]
     },
     "execution_count": 34,
     "metadata": {},
     "output_type": "execute_result"
    }
   ],
   "source": [
    "lg2.score(X_train, y_train)"
   ]
  },
  {
   "cell_type": "code",
   "execution_count": 35,
   "metadata": {},
   "outputs": [
    {
     "data": {
      "text/plain": [
       "0.98"
      ]
     },
     "execution_count": 35,
     "metadata": {},
     "output_type": "execute_result"
    }
   ],
   "source": [
    "lg1.score(X_test, y_test)"
   ]
  },
  {
   "cell_type": "code",
   "execution_count": 36,
   "metadata": {},
   "outputs": [
    {
     "data": {
      "text/plain": [
       "0.94"
      ]
     },
     "execution_count": 36,
     "metadata": {},
     "output_type": "execute_result"
    }
   ],
   "source": [
    "lg2.score(X_test, y_test)"
   ]
  },
  {
   "cell_type": "code",
   "execution_count": null,
   "metadata": {},
   "outputs": [],
   "source": []
  },
  {
   "cell_type": "code",
   "execution_count": 37,
   "metadata": {},
   "outputs": [
    {
     "data": {
      "text/plain": [
       "pandas.core.frame.DataFrame"
      ]
     },
     "execution_count": 37,
     "metadata": {},
     "output_type": "execute_result"
    }
   ],
   "source": [
    "type(df)"
   ]
  },
  {
   "cell_type": "code",
   "execution_count": 38,
   "metadata": {},
   "outputs": [],
   "source": [
    "from sklearn.cluster import KMeans, AgglomerativeClustering"
   ]
  },
  {
   "cell_type": "code",
   "execution_count": 39,
   "metadata": {},
   "outputs": [],
   "source": [
    "k = KMeans(n_clusters=3, )\n",
    "#k = AgglomerativeClustering()"
   ]
  },
  {
   "cell_type": "code",
   "execution_count": 40,
   "metadata": {},
   "outputs": [
    {
     "data": {
      "text/plain": [
       "KMeans(n_clusters=3)"
      ]
     },
     "execution_count": 40,
     "metadata": {},
     "output_type": "execute_result"
    }
   ],
   "source": [
    "k.fit(df)"
   ]
  },
  {
   "cell_type": "code",
   "execution_count": 41,
   "metadata": {},
   "outputs": [],
   "source": [
    "#k.inertia_"
   ]
  },
  {
   "cell_type": "code",
   "execution_count": 42,
   "metadata": {},
   "outputs": [
    {
     "data": {
      "text/plain": [
       "{'algorithm': 'auto',\n",
       " 'copy_x': True,\n",
       " 'init': 'k-means++',\n",
       " 'max_iter': 300,\n",
       " 'n_clusters': 3,\n",
       " 'n_init': 10,\n",
       " 'n_jobs': 'deprecated',\n",
       " 'precompute_distances': 'deprecated',\n",
       " 'random_state': None,\n",
       " 'tol': 0.0001,\n",
       " 'verbose': 0}"
      ]
     },
     "execution_count": 42,
     "metadata": {},
     "output_type": "execute_result"
    }
   ],
   "source": [
    "k.get_params()"
   ]
  },
  {
   "cell_type": "code",
   "execution_count": 43,
   "metadata": {},
   "outputs": [],
   "source": [
    "#k.cluster_centers_"
   ]
  },
  {
   "cell_type": "code",
   "execution_count": 44,
   "metadata": {},
   "outputs": [
    {
     "data": {
      "text/plain": [
       "78.851441426146"
      ]
     },
     "execution_count": 44,
     "metadata": {},
     "output_type": "execute_result"
    }
   ],
   "source": [
    "k.inertia_"
   ]
  },
  {
   "cell_type": "code",
   "execution_count": 45,
   "metadata": {},
   "outputs": [
    {
     "data": {
      "text/plain": [
       "array([1, 1, 1, 1, 1, 1, 1, 1, 1, 1, 1, 1, 1, 1, 1, 1, 1, 1, 1, 1, 1, 1,\n",
       "       1, 1, 1, 1, 1, 1, 1, 1, 1, 1, 1, 1, 1, 1, 1, 1, 1, 1, 1, 1, 1, 1,\n",
       "       1, 1, 1, 1, 1, 1, 0, 0, 2, 0, 0, 0, 0, 0, 0, 0, 0, 0, 0, 0, 0, 0,\n",
       "       0, 0, 0, 0, 0, 0, 0, 0, 0, 0, 0, 2, 0, 0, 0, 0, 0, 0, 0, 0, 0, 0,\n",
       "       0, 0, 0, 0, 0, 0, 0, 0, 0, 0, 0, 0, 2, 0, 2, 2, 2, 2, 0, 2, 2, 2,\n",
       "       2, 2, 2, 0, 0, 2, 2, 2, 2, 0, 2, 0, 2, 0, 2, 2, 0, 0, 2, 2, 2, 2,\n",
       "       2, 0, 2, 2, 2, 2, 0, 2, 2, 2, 0, 2, 2, 2, 0, 2, 2, 0], dtype=int32)"
      ]
     },
     "execution_count": 45,
     "metadata": {},
     "output_type": "execute_result"
    }
   ],
   "source": [
    "k.labels_"
   ]
  },
  {
   "cell_type": "code",
   "execution_count": null,
   "metadata": {},
   "outputs": [],
   "source": []
  },
  {
   "cell_type": "code",
   "execution_count": 46,
   "metadata": {},
   "outputs": [
    {
     "data": {
      "text/plain": [
       "4"
      ]
     },
     "execution_count": 46,
     "metadata": {},
     "output_type": "execute_result"
    }
   ],
   "source": [
    "k.n_features_in_"
   ]
  },
  {
   "cell_type": "code",
   "execution_count": 47,
   "metadata": {},
   "outputs": [
    {
     "data": {
      "text/plain": [
       "6"
      ]
     },
     "execution_count": 47,
     "metadata": {},
     "output_type": "execute_result"
    }
   ],
   "source": [
    "k.n_iter_"
   ]
  },
  {
   "cell_type": "code",
   "execution_count": 48,
   "metadata": {},
   "outputs": [],
   "source": [
    "from sklearn.base import BaseEstimator\n",
    "import numpy as np"
   ]
  },
  {
   "cell_type": "code",
   "execution_count": 49,
   "metadata": {},
   "outputs": [],
   "source": [
    "class AlgoGene(BaseEstimator):\n",
    "    def fit(self, X):\n",
    "        return 'Modelo sendo treinado'\n",
    "    def predict(self, X):\n",
    "        return np.ones_like(X)"
   ]
  },
  {
   "cell_type": "code",
   "execution_count": 50,
   "metadata": {},
   "outputs": [],
   "source": [
    "a = AlgoGene()"
   ]
  },
  {
   "cell_type": "code",
   "execution_count": 51,
   "metadata": {},
   "outputs": [
    {
     "data": {
      "text/plain": [
       "'Modelo sendo treinado'"
      ]
     },
     "execution_count": 51,
     "metadata": {},
     "output_type": "execute_result"
    }
   ],
   "source": [
    "a.fit(np.ones((3,3)))"
   ]
  },
  {
   "cell_type": "code",
   "execution_count": 52,
   "metadata": {},
   "outputs": [
    {
     "data": {
      "text/plain": [
       "array([[1., 1., 1.],\n",
       "       [1., 1., 1.],\n",
       "       [1., 1., 1.]])"
      ]
     },
     "execution_count": 52,
     "metadata": {},
     "output_type": "execute_result"
    }
   ],
   "source": [
    "a.predict(np.zeros((3,3)))"
   ]
  },
  {
   "cell_type": "code",
   "execution_count": 53,
   "metadata": {},
   "outputs": [],
   "source": [
    "from sklearn.linear_model import LogisticRegression"
   ]
  },
  {
   "cell_type": "code",
   "execution_count": 54,
   "metadata": {},
   "outputs": [],
   "source": [
    "df = load_iris()"
   ]
  },
  {
   "cell_type": "code",
   "execution_count": 55,
   "metadata": {},
   "outputs": [
    {
     "data": {
      "text/plain": [
       "dict_keys(['data', 'target', 'frame', 'target_names', 'DESCR', 'feature_names', 'filename'])"
      ]
     },
     "execution_count": 55,
     "metadata": {},
     "output_type": "execute_result"
    }
   ],
   "source": [
    "df.keys()"
   ]
  },
  {
   "cell_type": "code",
   "execution_count": 56,
   "metadata": {},
   "outputs": [],
   "source": [
    "X = df['data']\n",
    "y = df['target']"
   ]
  },
  {
   "cell_type": "code",
   "execution_count": 57,
   "metadata": {},
   "outputs": [],
   "source": [
    "l = LogisticRegression(max_iter=400)"
   ]
  },
  {
   "cell_type": "code",
   "execution_count": 58,
   "metadata": {},
   "outputs": [
    {
     "data": {
      "text/plain": [
       "LogisticRegression(max_iter=400)"
      ]
     },
     "execution_count": 58,
     "metadata": {},
     "output_type": "execute_result"
    }
   ],
   "source": [
    "l.fit(X, y)"
   ]
  },
  {
   "cell_type": "code",
   "execution_count": 59,
   "metadata": {},
   "outputs": [
    {
     "data": {
      "text/plain": [
       "0.9733333333333334"
      ]
     },
     "execution_count": 59,
     "metadata": {},
     "output_type": "execute_result"
    }
   ],
   "source": [
    "l.score(X, y)"
   ]
  },
  {
   "cell_type": "markdown",
   "metadata": {},
   "source": [
    "# Pipelines and feature unions\n",
    "\n",
    "- Pipelines (sequenciais)\n",
    "- FeatureUnion (paralelo)\n",
    "\n"
   ]
  },
  {
   "cell_type": "code",
   "execution_count": 61,
   "metadata": {},
   "outputs": [],
   "source": [
    "from sklearn.pipeline import FeatureUnion, Pipeline\n",
    "from sklearn.decomposition import PCA, KernelPCA\n",
    "from sklearn.feature_selection import SelectKBest"
   ]
  },
  {
   "cell_type": "code",
   "execution_count": 62,
   "metadata": {},
   "outputs": [],
   "source": [
    "union = FeatureUnion([('pca', PCA()),\n",
    "                      ('kpca', KernelPCA(kernel='rbf'))\n",
    "                     ])\n",
    "#union = FeatureUnion([('str', StandardScaler())])"
   ]
  },
  {
   "cell_type": "code",
   "execution_count": 63,
   "metadata": {},
   "outputs": [],
   "source": [
    "lg1 = LogisticRegression(penalty=\"l1\", solver='liblinear')\n",
    "lg2 = OneVsOneClassifier(LogisticRegression(penalty=\"l1\", solver='liblinear'))"
   ]
  },
  {
   "cell_type": "code",
   "execution_count": 64,
   "metadata": {},
   "outputs": [],
   "source": [
    "X_l_train = union.fit_transform(X_train)"
   ]
  },
  {
   "cell_type": "code",
   "execution_count": 65,
   "metadata": {},
   "outputs": [
    {
     "data": {
      "text/plain": [
       "OneVsOneClassifier(estimator=LogisticRegression(penalty='l1',\n",
       "                                                solver='liblinear'))"
      ]
     },
     "execution_count": 65,
     "metadata": {},
     "output_type": "execute_result"
    }
   ],
   "source": [
    "lg1.fit(X_l_train, y_train)\n",
    "lg2.fit(X_l_train, y_train)"
   ]
  },
  {
   "cell_type": "code",
   "execution_count": 66,
   "metadata": {},
   "outputs": [
    {
     "data": {
      "text/plain": [
       "(1.0, 1.0)"
      ]
     },
     "execution_count": 66,
     "metadata": {},
     "output_type": "execute_result"
    }
   ],
   "source": [
    "lg1.score(union.transform(X_test), y_test), lg2.score(union.transform(X_test), y_test)"
   ]
  },
  {
   "cell_type": "code",
   "execution_count": 67,
   "metadata": {},
   "outputs": [
    {
     "data": {
      "text/plain": [
       "((100, 103), (100, 4))"
      ]
     },
     "execution_count": 67,
     "metadata": {},
     "output_type": "execute_result"
    }
   ],
   "source": [
    "X_l_train.shape, X_train.shape"
   ]
  },
  {
   "cell_type": "code",
   "execution_count": 68,
   "metadata": {},
   "outputs": [],
   "source": [
    "pca = KernelPCA(kernel='rbf')\n",
    "pca_f = pca.fit_transform(X_train)"
   ]
  },
  {
   "cell_type": "code",
   "execution_count": 69,
   "metadata": {},
   "outputs": [
    {
     "data": {
      "text/plain": [
       "(100, 99)"
      ]
     },
     "execution_count": 69,
     "metadata": {},
     "output_type": "execute_result"
    }
   ],
   "source": [
    "pca_f.shape"
   ]
  },
  {
   "cell_type": "code",
   "execution_count": 70,
   "metadata": {},
   "outputs": [],
   "source": [
    "pipe = Pipeline([('feat_union', union),\n",
    "                 ('feat_sel', SelectKBest(k=10)),\n",
    "                 #('log_reg0', LogisticRegression(penalty='l2')),\n",
    "                 #('log_reg1', LogisticRegression(penalty=\"l1\", solver='liblinear')),\n",
    "                 ('log_reg2', OneVsOneClassifier(LogisticRegression(penalty=\"l1\", \n",
    "                                        solver='liblinear')))\n",
    "                ]).fit(X_train, y_train).predict(X_test)"
   ]
  },
  {
   "cell_type": "code",
   "execution_count": 71,
   "metadata": {},
   "outputs": [
    {
     "data": {
      "text/plain": [
       "array([1, 0, 2, 1, 1, 0, 1, 2, 1, 1, 2, 0, 0, 0, 0, 1, 2, 1, 1, 2, 0, 2,\n",
       "       0, 2, 2, 2, 2, 2, 0, 0, 0, 0, 1, 0, 0, 2, 1, 0, 0, 0, 2, 1, 1, 0,\n",
       "       0, 1, 2, 2, 1, 2])"
      ]
     },
     "execution_count": 71,
     "metadata": {},
     "output_type": "execute_result"
    }
   ],
   "source": [
    "pipe"
   ]
  },
  {
   "cell_type": "code",
   "execution_count": 72,
   "metadata": {},
   "outputs": [
    {
     "data": {
      "text/plain": [
       "array([1, 0, 2, 1, 1, 0, 1, 2, 1, 1, 2, 0, 0, 0, 0, 1, 2, 1, 1, 2, 0, 2,\n",
       "       0, 2, 2, 2, 2, 2, 0, 0, 0, 0, 1, 0, 0, 2, 1, 0, 0, 0, 2, 1, 1, 0,\n",
       "       0, 1, 2, 2, 1, 2])"
      ]
     },
     "execution_count": 72,
     "metadata": {},
     "output_type": "execute_result"
    }
   ],
   "source": [
    "y_test"
   ]
  },
  {
   "cell_type": "code",
   "execution_count": 73,
   "metadata": {},
   "outputs": [],
   "source": [
    "for t, v in zip(pipe, y_test):\n",
    "    if t != v:\n",
    "        print('errou')"
   ]
  },
  {
   "cell_type": "code",
   "execution_count": null,
   "metadata": {},
   "outputs": [],
   "source": []
  },
  {
   "cell_type": "markdown",
   "metadata": {},
   "source": [
    "# Model selection\n"
   ]
  },
  {
   "cell_type": "code",
   "execution_count": 76,
   "metadata": {},
   "outputs": [],
   "source": [
    "from sklearn.model_selection import GridSearchCV\n",
    "from sklearn.svm import SVC"
   ]
  },
  {
   "cell_type": "code",
   "execution_count": 113,
   "metadata": {},
   "outputs": [],
   "source": [
    "model_to_set = OneVsRestClassifier(SVC())\n",
    "\n",
    "para_grid = [\n",
    "    {\"estimator__kernel\": ['linear'], 'estimator__C': [1, 10, 100, 1000]},\n",
    "    {\"estimator__kernel\": ['rbf'], 'estimator__C': [1, 10, 100, 1000],\n",
    "     \"estimator__gamma\": [0.001, 0.0001]},\n",
    "]"
   ]
  },
  {
   "cell_type": "code",
   "execution_count": 114,
   "metadata": {},
   "outputs": [
    {
     "data": {
      "text/plain": [
       "dict_keys(['estimator__C', 'estimator__break_ties', 'estimator__cache_size', 'estimator__class_weight', 'estimator__coef0', 'estimator__decision_function_shape', 'estimator__degree', 'estimator__gamma', 'estimator__kernel', 'estimator__max_iter', 'estimator__probability', 'estimator__random_state', 'estimator__shrinking', 'estimator__tol', 'estimator__verbose', 'estimator', 'n_jobs'])"
      ]
     },
     "execution_count": 114,
     "metadata": {},
     "output_type": "execute_result"
    }
   ],
   "source": [
    "OneVsRestClassifier(SVC()).get_params().keys()"
   ]
  },
  {
   "cell_type": "code",
   "execution_count": 115,
   "metadata": {},
   "outputs": [],
   "source": [
    "clf = GridSearchCV(model_to_set, para_grid, scoring='f1_weighted', cv=10, )"
   ]
  },
  {
   "cell_type": "code",
   "execution_count": 105,
   "metadata": {},
   "outputs": [
    {
     "data": {
      "text/plain": [
       "GridSearchCV(cv=10, estimator=OneVsRestClassifier(estimator=SVC(kernel='poly')),\n",
       "             param_grid=[{'estimator__C': [1, 10, 100, 1000],\n",
       "                          'estimator__kernel': ['linear']},\n",
       "                         {'estimator__C': [1, 10, 100, 1000],\n",
       "                          'estimator__gamma': [0.001, 0.0001],\n",
       "                          'estimator__kernel': ['rbf']}],\n",
       "             scoring='f1_weighted')"
      ]
     },
     "execution_count": 105,
     "metadata": {},
     "output_type": "execute_result"
    }
   ],
   "source": [
    "clf.fit(X_train, y_train)"
   ]
  },
  {
   "cell_type": "code",
   "execution_count": 106,
   "metadata": {},
   "outputs": [],
   "source": [
    "y_pred = clf.predict(X_test)"
   ]
  },
  {
   "cell_type": "code",
   "execution_count": 107,
   "metadata": {},
   "outputs": [
    {
     "data": {
      "text/plain": [
       "array([1, 0, 2, 1, 1, 0, 1, 2, 1, 1, 2, 0, 0, 0, 0, 1, 2, 1, 1, 2, 0, 2,\n",
       "       0, 2, 2, 2, 2, 2, 0, 0, 0, 0, 1, 0, 0, 2, 1, 0, 0, 0, 2, 1, 1, 0,\n",
       "       0, 1, 1, 2, 1, 2])"
      ]
     },
     "execution_count": 107,
     "metadata": {},
     "output_type": "execute_result"
    }
   ],
   "source": [
    "y_pred"
   ]
  },
  {
   "cell_type": "code",
   "execution_count": 108,
   "metadata": {},
   "outputs": [
    {
     "data": {
      "text/plain": [
       "0.98"
      ]
     },
     "execution_count": 108,
     "metadata": {},
     "output_type": "execute_result"
    }
   ],
   "source": [
    "clf.score(X_test, y_test)"
   ]
  },
  {
   "cell_type": "code",
   "execution_count": 116,
   "metadata": {},
   "outputs": [
    {
     "data": {
      "text/plain": [
       "GridSearchCV(cv=10, estimator=OneVsRestClassifier(estimator=SVC()),\n",
       "             param_grid=[{'estimator__C': [1, 10, 100, 1000],\n",
       "                          'estimator__kernel': ['linear']},\n",
       "                         {'estimator__C': [1, 10, 100, 1000],\n",
       "                          'estimator__gamma': [0.001, 0.0001],\n",
       "                          'estimator__kernel': ['rbf']}],\n",
       "             scoring='f1_weighted')"
      ]
     },
     "execution_count": 116,
     "metadata": {},
     "output_type": "execute_result"
    }
   ],
   "source": [
    "clf.fit(X_l_train, y_train)"
   ]
  },
  {
   "cell_type": "code",
   "execution_count": 117,
   "metadata": {},
   "outputs": [
    {
     "data": {
      "text/plain": [
       "1.0"
      ]
     },
     "execution_count": 117,
     "metadata": {},
     "output_type": "execute_result"
    }
   ],
   "source": [
    "clf.score(union.transform(X_test), y_test)"
   ]
  },
  {
   "cell_type": "code",
   "execution_count": 118,
   "metadata": {},
   "outputs": [
    {
     "data": {
      "text/plain": [
       "{'cv': 10,\n",
       " 'error_score': nan,\n",
       " 'estimator__estimator__C': 1.0,\n",
       " 'estimator__estimator__break_ties': False,\n",
       " 'estimator__estimator__cache_size': 200,\n",
       " 'estimator__estimator__class_weight': None,\n",
       " 'estimator__estimator__coef0': 0.0,\n",
       " 'estimator__estimator__decision_function_shape': 'ovr',\n",
       " 'estimator__estimator__degree': 3,\n",
       " 'estimator__estimator__gamma': 'scale',\n",
       " 'estimator__estimator__kernel': 'rbf',\n",
       " 'estimator__estimator__max_iter': -1,\n",
       " 'estimator__estimator__probability': False,\n",
       " 'estimator__estimator__random_state': None,\n",
       " 'estimator__estimator__shrinking': True,\n",
       " 'estimator__estimator__tol': 0.001,\n",
       " 'estimator__estimator__verbose': False,\n",
       " 'estimator__estimator': SVC(),\n",
       " 'estimator__n_jobs': None,\n",
       " 'estimator': OneVsRestClassifier(estimator=SVC()),\n",
       " 'iid': 'deprecated',\n",
       " 'n_jobs': None,\n",
       " 'param_grid': [{'estimator__kernel': ['linear'],\n",
       "   'estimator__C': [1, 10, 100, 1000]},\n",
       "  {'estimator__kernel': ['rbf'],\n",
       "   'estimator__C': [1, 10, 100, 1000],\n",
       "   'estimator__gamma': [0.001, 0.0001]}],\n",
       " 'pre_dispatch': '2*n_jobs',\n",
       " 'refit': True,\n",
       " 'return_train_score': False,\n",
       " 'scoring': 'f1_weighted',\n",
       " 'verbose': 0}"
      ]
     },
     "execution_count": 118,
     "metadata": {},
     "output_type": "execute_result"
    }
   ],
   "source": [
    "clf.get_params()"
   ]
  },
  {
   "cell_type": "code",
   "execution_count": 119,
   "metadata": {},
   "outputs": [
    {
     "data": {
      "text/plain": [
       "[{'estimator__kernel': ['linear'], 'estimator__C': [1, 10, 100, 1000]},\n",
       " {'estimator__kernel': ['rbf'],\n",
       "  'estimator__C': [1, 10, 100, 1000],\n",
       "  'estimator__gamma': [0.001, 0.0001]}]"
      ]
     },
     "execution_count": 119,
     "metadata": {},
     "output_type": "execute_result"
    }
   ],
   "source": [
    "clf.param_grid"
   ]
  },
  {
   "cell_type": "code",
   "execution_count": 120,
   "metadata": {},
   "outputs": [
    {
     "data": {
      "text/plain": [
       "make_scorer(f1_score, pos_label=None, average=weighted)"
      ]
     },
     "execution_count": 120,
     "metadata": {},
     "output_type": "execute_result"
    }
   ],
   "source": [
    "clf.scorer_"
   ]
  },
  {
   "cell_type": "code",
   "execution_count": 121,
   "metadata": {},
   "outputs": [
    {
     "data": {
      "text/plain": [
       "'f1_weighted'"
      ]
     },
     "execution_count": 121,
     "metadata": {},
     "output_type": "execute_result"
    }
   ],
   "source": [
    "clf.scoring"
   ]
  },
  {
   "cell_type": "code",
   "execution_count": 122,
   "metadata": {},
   "outputs": [
    {
     "data": {
      "text/plain": [
       "{'mean_fit_time': array([0.00533643, 0.00641501, 0.00476112, 0.00477781, 0.00584886,\n",
       "        0.00564344, 0.00501397, 0.00574872, 0.00468869, 0.00558846,\n",
       "        0.00392904, 0.0043047 ]),\n",
       " 'std_fit_time': array([0.0021574 , 0.00134145, 0.00098314, 0.00109168, 0.00052891,\n",
       "        0.00060621, 0.00026003, 0.00053411, 0.00064859, 0.00096818,\n",
       "        0.00028929, 0.00029167]),\n",
       " 'mean_score_time': array([0.00146077, 0.00205526, 0.00129755, 0.00133359, 0.00165703,\n",
       "        0.0014812 , 0.00142438, 0.00149271, 0.00145998, 0.00138338,\n",
       "        0.00130746, 0.00133953]),\n",
       " 'std_score_time': array([0.0002941 , 0.00063428, 0.0001391 , 0.00019546, 0.00027696,\n",
       "        0.00010204, 0.00013331, 0.00020111, 0.0002601 , 0.00013653,\n",
       "        0.00016768, 0.00010033]),\n",
       " 'param_estimator__C': masked_array(data=[1, 10, 100, 1000, 1, 1, 10, 10, 100, 100, 1000, 1000],\n",
       "              mask=[False, False, False, False, False, False, False, False,\n",
       "                    False, False, False, False],\n",
       "        fill_value='?',\n",
       "             dtype=object),\n",
       " 'param_estimator__kernel': masked_array(data=['linear', 'linear', 'linear', 'linear', 'rbf', 'rbf',\n",
       "                    'rbf', 'rbf', 'rbf', 'rbf', 'rbf', 'rbf'],\n",
       "              mask=[False, False, False, False, False, False, False, False,\n",
       "                    False, False, False, False],\n",
       "        fill_value='?',\n",
       "             dtype=object),\n",
       " 'param_estimator__gamma': masked_array(data=[--, --, --, --, 0.001, 0.0001, 0.001, 0.0001, 0.001,\n",
       "                    0.0001, 0.001, 0.0001],\n",
       "              mask=[ True,  True,  True,  True, False, False, False, False,\n",
       "                    False, False, False, False],\n",
       "        fill_value='?',\n",
       "             dtype=object),\n",
       " 'params': [{'estimator__C': 1, 'estimator__kernel': 'linear'},\n",
       "  {'estimator__C': 10, 'estimator__kernel': 'linear'},\n",
       "  {'estimator__C': 100, 'estimator__kernel': 'linear'},\n",
       "  {'estimator__C': 1000, 'estimator__kernel': 'linear'},\n",
       "  {'estimator__C': 1, 'estimator__gamma': 0.001, 'estimator__kernel': 'rbf'},\n",
       "  {'estimator__C': 1, 'estimator__gamma': 0.0001, 'estimator__kernel': 'rbf'},\n",
       "  {'estimator__C': 10, 'estimator__gamma': 0.001, 'estimator__kernel': 'rbf'},\n",
       "  {'estimator__C': 10, 'estimator__gamma': 0.0001, 'estimator__kernel': 'rbf'},\n",
       "  {'estimator__C': 100, 'estimator__gamma': 0.001, 'estimator__kernel': 'rbf'},\n",
       "  {'estimator__C': 100,\n",
       "   'estimator__gamma': 0.0001,\n",
       "   'estimator__kernel': 'rbf'},\n",
       "  {'estimator__C': 1000,\n",
       "   'estimator__gamma': 0.001,\n",
       "   'estimator__kernel': 'rbf'},\n",
       "  {'estimator__C': 1000,\n",
       "   'estimator__gamma': 0.0001,\n",
       "   'estimator__kernel': 'rbf'}],\n",
       " 'split0_test_score': array([1.        , 1.        , 1.        , 1.        , 0.45714286,\n",
       "        0.45714286, 0.9       , 0.45714286, 1.        , 0.9       ,\n",
       "        1.        , 1.        ]),\n",
       " 'split1_test_score': array([0.89555556, 0.89555556, 0.89555556, 0.89555556, 0.48      ,\n",
       "        0.48      , 0.9       , 0.48      , 0.89555556, 0.9       ,\n",
       "        0.89555556, 0.89555556]),\n",
       " 'split2_test_score': array([1.        , 1.        , 1.        , 1.        , 0.45714286,\n",
       "        0.45714286, 0.78095238, 0.45714286, 1.        , 0.78095238,\n",
       "        1.        , 1.        ]),\n",
       " 'split3_test_score': array([0.79166667, 0.66      , 0.79166667, 0.79166667, 0.45714286,\n",
       "        0.45714286, 0.45714286, 0.45714286, 0.66      , 0.45714286,\n",
       "        0.66      , 0.66      ]),\n",
       " 'split4_test_score': array([1.  , 0.9 , 1.  , 1.  , 0.48, 0.48, 0.66, 0.48, 1.  , 0.66, 0.9 ,\n",
       "        1.  ]),\n",
       " 'split5_test_score': array([1.        , 1.        , 1.        , 1.        , 0.57714286,\n",
       "        0.57714286, 0.89555556, 0.57714286, 1.        , 0.89555556,\n",
       "        1.        , 1.        ]),\n",
       " 'split6_test_score': array([1.        , 1.        , 1.        , 1.        , 0.57714286,\n",
       "        0.57714286, 0.77      , 0.57714286, 1.        , 0.77      ,\n",
       "        1.        , 1.        ]),\n",
       " 'split7_test_score': array([1.        , 1.        , 1.        , 1.        , 0.58055556,\n",
       "        0.58055556, 0.89714286, 0.58055556, 1.        , 0.89714286,\n",
       "        1.        , 1.        ]),\n",
       " 'split8_test_score': array([1.        , 1.        , 1.        , 1.        , 0.57714286,\n",
       "        0.57714286, 0.89555556, 0.57714286, 1.        , 0.89555556,\n",
       "        1.        , 1.        ]),\n",
       " 'split9_test_score': array([1.        , 1.        , 1.        , 0.89714286, 0.58055556,\n",
       "        0.58055556, 0.8       , 0.58055556, 0.89714286, 0.8       ,\n",
       "        1.        , 0.89714286]),\n",
       " 'mean_test_score': array([0.96872222, 0.94555556, 0.96872222, 0.95843651, 0.52239683,\n",
       "        0.52239683, 0.79563492, 0.52239683, 0.94526984, 0.79563492,\n",
       "        0.94555556, 0.94526984]),\n",
       " 'std_test_score': array([0.06672962, 0.10337634, 0.06672962, 0.06900418, 0.05667935,\n",
       "        0.05667935, 0.13635313, 0.05667935, 0.10350572, 0.13635313,\n",
       "        0.10337634, 0.10350572]),\n",
       " 'rank_test_score': array([ 1,  4,  1,  3, 10, 10,  8, 10,  6,  8,  4,  6], dtype=int32)}"
      ]
     },
     "execution_count": 122,
     "metadata": {},
     "output_type": "execute_result"
    }
   ],
   "source": [
    "clf.cv_results_"
   ]
  },
  {
   "cell_type": "code",
   "execution_count": 123,
   "metadata": {},
   "outputs": [
    {
     "data": {
      "text/plain": [
       "[{'estimator__C': 1, 'estimator__kernel': 'linear'},\n",
       " {'estimator__C': 10, 'estimator__kernel': 'linear'},\n",
       " {'estimator__C': 100, 'estimator__kernel': 'linear'},\n",
       " {'estimator__C': 1000, 'estimator__kernel': 'linear'},\n",
       " {'estimator__C': 1, 'estimator__gamma': 0.001, 'estimator__kernel': 'rbf'},\n",
       " {'estimator__C': 1, 'estimator__gamma': 0.0001, 'estimator__kernel': 'rbf'},\n",
       " {'estimator__C': 10, 'estimator__gamma': 0.001, 'estimator__kernel': 'rbf'},\n",
       " {'estimator__C': 10, 'estimator__gamma': 0.0001, 'estimator__kernel': 'rbf'},\n",
       " {'estimator__C': 100, 'estimator__gamma': 0.001, 'estimator__kernel': 'rbf'},\n",
       " {'estimator__C': 100, 'estimator__gamma': 0.0001, 'estimator__kernel': 'rbf'},\n",
       " {'estimator__C': 1000, 'estimator__gamma': 0.001, 'estimator__kernel': 'rbf'},\n",
       " {'estimator__C': 1000,\n",
       "  'estimator__gamma': 0.0001,\n",
       "  'estimator__kernel': 'rbf'}]"
      ]
     },
     "execution_count": 123,
     "metadata": {},
     "output_type": "execute_result"
    }
   ],
   "source": [
    "clf.cv_results_['params']"
   ]
  },
  {
   "cell_type": "code",
   "execution_count": 124,
   "metadata": {},
   "outputs": [
    {
     "data": {
      "text/plain": [
       "array([0.96872222, 0.94555556, 0.96872222, 0.95843651, 0.52239683,\n",
       "       0.52239683, 0.79563492, 0.52239683, 0.94526984, 0.79563492,\n",
       "       0.94555556, 0.94526984])"
      ]
     },
     "execution_count": 124,
     "metadata": {},
     "output_type": "execute_result"
    }
   ],
   "source": [
    "clf.cv_results_['mean_test_score']"
   ]
  },
  {
   "cell_type": "code",
   "execution_count": 125,
   "metadata": {},
   "outputs": [
    {
     "name": "stdout",
     "output_type": "stream",
     "text": [
      "{'estimator__C': 1, 'estimator__kernel': 'linear'}, acertou=0.9687222222222222\n",
      "{'estimator__C': 10, 'estimator__kernel': 'linear'}, acertou=0.9455555555555556\n",
      "{'estimator__C': 100, 'estimator__kernel': 'linear'}, acertou=0.9687222222222222\n",
      "{'estimator__C': 1000, 'estimator__kernel': 'linear'}, acertou=0.9584365079365078\n",
      "{'estimator__C': 1, 'estimator__gamma': 0.001, 'estimator__kernel': 'rbf'}, acertou=0.5223968253968254\n",
      "{'estimator__C': 1, 'estimator__gamma': 0.0001, 'estimator__kernel': 'rbf'}, acertou=0.5223968253968254\n",
      "{'estimator__C': 10, 'estimator__gamma': 0.001, 'estimator__kernel': 'rbf'}, acertou=0.7956349206349206\n",
      "{'estimator__C': 10, 'estimator__gamma': 0.0001, 'estimator__kernel': 'rbf'}, acertou=0.5223968253968254\n",
      "{'estimator__C': 100, 'estimator__gamma': 0.001, 'estimator__kernel': 'rbf'}, acertou=0.9452698412698413\n",
      "{'estimator__C': 100, 'estimator__gamma': 0.0001, 'estimator__kernel': 'rbf'}, acertou=0.7956349206349206\n",
      "{'estimator__C': 1000, 'estimator__gamma': 0.001, 'estimator__kernel': 'rbf'}, acertou=0.9455555555555556\n",
      "{'estimator__C': 1000, 'estimator__gamma': 0.0001, 'estimator__kernel': 'rbf'}, acertou=0.9452698412698413\n"
     ]
    }
   ],
   "source": [
    "for param, score in zip(clf.cv_results_['params'], clf.cv_results_['mean_test_score']):\n",
    "    print(f\"{param}, acertou={score}\")"
   ]
  },
  {
   "cell_type": "code",
   "execution_count": 126,
   "metadata": {},
   "outputs": [
    {
     "data": {
      "text/plain": [
       "OneVsRestClassifier(estimator=SVC(C=1, kernel='linear'))"
      ]
     },
     "execution_count": 126,
     "metadata": {},
     "output_type": "execute_result"
    }
   ],
   "source": [
    "clf.best_estimator_"
   ]
  },
  {
   "cell_type": "code",
   "execution_count": 129,
   "metadata": {},
   "outputs": [
    {
     "data": {
      "text/html": [
       "<div>\n",
       "<style scoped>\n",
       "    .dataframe tbody tr th:only-of-type {\n",
       "        vertical-align: middle;\n",
       "    }\n",
       "\n",
       "    .dataframe tbody tr th {\n",
       "        vertical-align: top;\n",
       "    }\n",
       "\n",
       "    .dataframe thead th {\n",
       "        text-align: right;\n",
       "    }\n",
       "</style>\n",
       "<table border=\"1\" class=\"dataframe\">\n",
       "  <thead>\n",
       "    <tr style=\"text-align: right;\">\n",
       "      <th></th>\n",
       "      <th>mean_test_score</th>\n",
       "      <th>std_test_score</th>\n",
       "      <th>split0_test_score</th>\n",
       "      <th>split1_test_score</th>\n",
       "      <th>split2_test_score</th>\n",
       "      <th>estimator__C</th>\n",
       "      <th>estimator__kernel</th>\n",
       "      <th>estimator__gamma</th>\n",
       "    </tr>\n",
       "  </thead>\n",
       "  <tbody>\n",
       "    <tr>\n",
       "      <th>0</th>\n",
       "      <td>0.968722</td>\n",
       "      <td>0.066730</td>\n",
       "      <td>1.000000</td>\n",
       "      <td>0.895556</td>\n",
       "      <td>1.000000</td>\n",
       "      <td>1</td>\n",
       "      <td>linear</td>\n",
       "      <td>NaN</td>\n",
       "    </tr>\n",
       "    <tr>\n",
       "      <th>2</th>\n",
       "      <td>0.968722</td>\n",
       "      <td>0.066730</td>\n",
       "      <td>1.000000</td>\n",
       "      <td>0.895556</td>\n",
       "      <td>1.000000</td>\n",
       "      <td>100</td>\n",
       "      <td>linear</td>\n",
       "      <td>NaN</td>\n",
       "    </tr>\n",
       "    <tr>\n",
       "      <th>3</th>\n",
       "      <td>0.958437</td>\n",
       "      <td>0.069004</td>\n",
       "      <td>1.000000</td>\n",
       "      <td>0.895556</td>\n",
       "      <td>1.000000</td>\n",
       "      <td>1000</td>\n",
       "      <td>linear</td>\n",
       "      <td>NaN</td>\n",
       "    </tr>\n",
       "    <tr>\n",
       "      <th>1</th>\n",
       "      <td>0.945556</td>\n",
       "      <td>0.103376</td>\n",
       "      <td>1.000000</td>\n",
       "      <td>0.895556</td>\n",
       "      <td>1.000000</td>\n",
       "      <td>10</td>\n",
       "      <td>linear</td>\n",
       "      <td>NaN</td>\n",
       "    </tr>\n",
       "    <tr>\n",
       "      <th>10</th>\n",
       "      <td>0.945556</td>\n",
       "      <td>0.103376</td>\n",
       "      <td>1.000000</td>\n",
       "      <td>0.895556</td>\n",
       "      <td>1.000000</td>\n",
       "      <td>1000</td>\n",
       "      <td>rbf</td>\n",
       "      <td>0.0010</td>\n",
       "    </tr>\n",
       "    <tr>\n",
       "      <th>8</th>\n",
       "      <td>0.945270</td>\n",
       "      <td>0.103506</td>\n",
       "      <td>1.000000</td>\n",
       "      <td>0.895556</td>\n",
       "      <td>1.000000</td>\n",
       "      <td>100</td>\n",
       "      <td>rbf</td>\n",
       "      <td>0.0010</td>\n",
       "    </tr>\n",
       "    <tr>\n",
       "      <th>11</th>\n",
       "      <td>0.945270</td>\n",
       "      <td>0.103506</td>\n",
       "      <td>1.000000</td>\n",
       "      <td>0.895556</td>\n",
       "      <td>1.000000</td>\n",
       "      <td>1000</td>\n",
       "      <td>rbf</td>\n",
       "      <td>0.0001</td>\n",
       "    </tr>\n",
       "    <tr>\n",
       "      <th>6</th>\n",
       "      <td>0.795635</td>\n",
       "      <td>0.136353</td>\n",
       "      <td>0.900000</td>\n",
       "      <td>0.900000</td>\n",
       "      <td>0.780952</td>\n",
       "      <td>10</td>\n",
       "      <td>rbf</td>\n",
       "      <td>0.0010</td>\n",
       "    </tr>\n",
       "    <tr>\n",
       "      <th>9</th>\n",
       "      <td>0.795635</td>\n",
       "      <td>0.136353</td>\n",
       "      <td>0.900000</td>\n",
       "      <td>0.900000</td>\n",
       "      <td>0.780952</td>\n",
       "      <td>100</td>\n",
       "      <td>rbf</td>\n",
       "      <td>0.0001</td>\n",
       "    </tr>\n",
       "    <tr>\n",
       "      <th>4</th>\n",
       "      <td>0.522397</td>\n",
       "      <td>0.056679</td>\n",
       "      <td>0.457143</td>\n",
       "      <td>0.480000</td>\n",
       "      <td>0.457143</td>\n",
       "      <td>1</td>\n",
       "      <td>rbf</td>\n",
       "      <td>0.0010</td>\n",
       "    </tr>\n",
       "  </tbody>\n",
       "</table>\n",
       "</div>"
      ],
      "text/plain": [
       "    mean_test_score  std_test_score  split0_test_score  split1_test_score  \\\n",
       "0          0.968722        0.066730           1.000000           0.895556   \n",
       "2          0.968722        0.066730           1.000000           0.895556   \n",
       "3          0.958437        0.069004           1.000000           0.895556   \n",
       "1          0.945556        0.103376           1.000000           0.895556   \n",
       "10         0.945556        0.103376           1.000000           0.895556   \n",
       "8          0.945270        0.103506           1.000000           0.895556   \n",
       "11         0.945270        0.103506           1.000000           0.895556   \n",
       "6          0.795635        0.136353           0.900000           0.900000   \n",
       "9          0.795635        0.136353           0.900000           0.900000   \n",
       "4          0.522397        0.056679           0.457143           0.480000   \n",
       "\n",
       "    split2_test_score  estimator__C estimator__kernel  estimator__gamma  \n",
       "0            1.000000             1            linear               NaN  \n",
       "2            1.000000           100            linear               NaN  \n",
       "3            1.000000          1000            linear               NaN  \n",
       "1            1.000000            10            linear               NaN  \n",
       "10           1.000000          1000               rbf            0.0010  \n",
       "8            1.000000           100               rbf            0.0010  \n",
       "11           1.000000          1000               rbf            0.0001  \n",
       "6            0.780952            10               rbf            0.0010  \n",
       "9            0.780952           100               rbf            0.0001  \n",
       "4            0.457143             1               rbf            0.0010  "
      ]
     },
     "execution_count": 129,
     "metadata": {},
     "output_type": "execute_result"
    }
   ],
   "source": [
    "_df = pd.DataFrame(clf.cv_results_)[[\"mean_test_score\", 'split0_test_score', 'split1_test_score', 'split2_test_score','std_test_score','params']]\\\n",
    "    .sort_values(by='mean_test_score', ascending=False)\n",
    "\n",
    "\n",
    "_df = pd.concat([_df[['mean_test_score', 'std_test_score', 'split0_test_score', 'split1_test_score', 'split2_test_score']], _df['params'].apply(lambda x: pd.Series(x))], axis=1)\n",
    "_df.head(10)"
   ]
  },
  {
   "cell_type": "code",
   "execution_count": null,
   "metadata": {},
   "outputs": [],
   "source": []
  }
 ],
 "metadata": {
  "kernelspec": {
   "display_name": "Python 3",
   "language": "python",
   "name": "python3"
  },
  "language_info": {
   "codemirror_mode": {
    "name": "ipython",
    "version": 3
   },
   "file_extension": ".py",
   "mimetype": "text/x-python",
   "name": "python",
   "nbconvert_exporter": "python",
   "pygments_lexer": "ipython3",
   "version": "3.8.5"
  }
 },
 "nbformat": 4,
 "nbformat_minor": 4
}
