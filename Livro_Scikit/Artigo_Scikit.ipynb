{
 "cells": [
  {
   "cell_type": "markdown",
   "metadata": {},
   "source": [
    "# Core API\n",
    "\n",
    "1. Estimador (Modelo)\n",
    "\n",
    "Para construir e ajustar os modelos.\n",
    "\n",
    "2. Preditor\n",
    "\n",
    "Para fazer as predições.\n",
    "\n",
    "3. Tranformador\n",
    "\n",
    "Para converter os dados.\n",
    "\n",
    "# Principios\n",
    "\n",
    "1. Consistência\n",
    "\n",
    "Interface composta com métodos limitados.\n",
    "\n",
    "2. Inspeção\n",
    "\n",
    "Parametros públicos\n",
    "\n",
    "3. Não Proliferação de classes\n",
    "\n",
    "Utiliza Numpy, Pandas e SciPy para dados. Strings e numeros para hiperparametros.\n",
    "\n",
    "4. Composição\n",
    "\n",
    "Agilizar a contrução de pipelines\n",
    "\n",
    "5. Padrões sensíveis\n",
    "\n",
    "Todo objeto tem definido padrões iniciais para que o modelo funcione.\n",
    "\n",
    "# Representação dos Dados\n",
    "\n",
    "Usam numpy e scipy e preferem rodar os algoritmo em batches.\n",
    "\n",
    "# Estimators\n",
    "\n",
    "- É uma interface\n",
    "- 2 em 1\n",
    "- Ele tem um estado antes e depois do método `.fit()`\n",
    "- Os hiperparâmetros são públicos\n",
    "- Os parâmetros são públicos\n",
    "- Os hiperparâmetros são passados antes do `.fit()`\n",
    "- A biblioteca sugere hiperparâmetros padrão\n",
    "- Estimadores diferentes são facilmente trocados\n",
    "\n",
    "# Preditores\n",
    "\n",
    "- Observar a performance do modelo\n",
    "- Quanto maior melhor `.score(X_test, y_test)`\n",
    "- Observar a predição do modelo em uma conjunto novo `.predict(X_test)`"
   ]
  },
  {
   "cell_type": "code",
   "execution_count": 1,
   "metadata": {},
   "outputs": [],
   "source": [
    "import pandas as pd"
   ]
  },
  {
   "cell_type": "code",
   "execution_count": 2,
   "metadata": {},
   "outputs": [],
   "source": [
    "from sklearn.datasets import load_iris"
   ]
  },
  {
   "cell_type": "code",
   "execution_count": 14,
   "metadata": {},
   "outputs": [],
   "source": [
    "df = load_iris()"
   ]
  },
  {
   "cell_type": "code",
   "execution_count": 15,
   "metadata": {},
   "outputs": [],
   "source": [
    "y = df.target"
   ]
  },
  {
   "cell_type": "code",
   "execution_count": 16,
   "metadata": {},
   "outputs": [],
   "source": [
    "df = pd.DataFrame(df['data'])"
   ]
  },
  {
   "cell_type": "code",
   "execution_count": 17,
   "metadata": {},
   "outputs": [],
   "source": [
    "X = df.values"
   ]
  },
  {
   "cell_type": "code",
   "execution_count": 18,
   "metadata": {},
   "outputs": [
    {
     "data": {
      "text/html": [
       "<div>\n",
       "<style scoped>\n",
       "    .dataframe tbody tr th:only-of-type {\n",
       "        vertical-align: middle;\n",
       "    }\n",
       "\n",
       "    .dataframe tbody tr th {\n",
       "        vertical-align: top;\n",
       "    }\n",
       "\n",
       "    .dataframe thead th {\n",
       "        text-align: right;\n",
       "    }\n",
       "</style>\n",
       "<table border=\"1\" class=\"dataframe\">\n",
       "  <thead>\n",
       "    <tr style=\"text-align: right;\">\n",
       "      <th></th>\n",
       "      <th>0</th>\n",
       "      <th>1</th>\n",
       "      <th>2</th>\n",
       "      <th>3</th>\n",
       "    </tr>\n",
       "  </thead>\n",
       "  <tbody>\n",
       "    <tr>\n",
       "      <th>0</th>\n",
       "      <td>5.1</td>\n",
       "      <td>3.5</td>\n",
       "      <td>1.4</td>\n",
       "      <td>0.2</td>\n",
       "    </tr>\n",
       "    <tr>\n",
       "      <th>1</th>\n",
       "      <td>4.9</td>\n",
       "      <td>3.0</td>\n",
       "      <td>1.4</td>\n",
       "      <td>0.2</td>\n",
       "    </tr>\n",
       "    <tr>\n",
       "      <th>2</th>\n",
       "      <td>4.7</td>\n",
       "      <td>3.2</td>\n",
       "      <td>1.3</td>\n",
       "      <td>0.2</td>\n",
       "    </tr>\n",
       "    <tr>\n",
       "      <th>3</th>\n",
       "      <td>4.6</td>\n",
       "      <td>3.1</td>\n",
       "      <td>1.5</td>\n",
       "      <td>0.2</td>\n",
       "    </tr>\n",
       "    <tr>\n",
       "      <th>4</th>\n",
       "      <td>5.0</td>\n",
       "      <td>3.6</td>\n",
       "      <td>1.4</td>\n",
       "      <td>0.2</td>\n",
       "    </tr>\n",
       "  </tbody>\n",
       "</table>\n",
       "</div>"
      ],
      "text/plain": [
       "     0    1    2    3\n",
       "0  5.1  3.5  1.4  0.2\n",
       "1  4.9  3.0  1.4  0.2\n",
       "2  4.7  3.2  1.3  0.2\n",
       "3  4.6  3.1  1.5  0.2\n",
       "4  5.0  3.6  1.4  0.2"
      ]
     },
     "execution_count": 18,
     "metadata": {},
     "output_type": "execute_result"
    }
   ],
   "source": [
    "df.head()"
   ]
  },
  {
   "cell_type": "code",
   "execution_count": 20,
   "metadata": {},
   "outputs": [
    {
     "data": {
      "text/plain": [
       "array([0, 0, 0, 0, 0, 0, 0, 0, 0, 0, 0, 0, 0, 0, 0, 0, 0, 0, 0, 0, 0, 0,\n",
       "       0, 0, 0, 0, 0, 0, 0, 0, 0, 0, 0, 0, 0, 0, 0, 0, 0, 0, 0, 0, 0, 0,\n",
       "       0, 0, 0, 0, 0, 0, 1, 1, 1, 1, 1, 1, 1, 1, 1, 1, 1, 1, 1, 1, 1, 1,\n",
       "       1, 1, 1, 1, 1, 1, 1, 1, 1, 1, 1, 1, 1, 1, 1, 1, 1, 1, 1, 1, 1, 1,\n",
       "       1, 1, 1, 1, 1, 1, 1, 1, 1, 1, 1, 1, 2, 2, 2, 2, 2, 2, 2, 2, 2, 2,\n",
       "       2, 2, 2, 2, 2, 2, 2, 2, 2, 2, 2, 2, 2, 2, 2, 2, 2, 2, 2, 2, 2, 2,\n",
       "       2, 2, 2, 2, 2, 2, 2, 2, 2, 2, 2, 2, 2, 2, 2, 2, 2, 2])"
      ]
     },
     "execution_count": 20,
     "metadata": {},
     "output_type": "execute_result"
    }
   ],
   "source": [
    "y"
   ]
  },
  {
   "cell_type": "code",
   "execution_count": null,
   "metadata": {},
   "outputs": [],
   "source": [
    "# OneVsOne\n",
    "# OneVsRest"
   ]
  },
  {
   "cell_type": "code",
   "execution_count": null,
   "metadata": {},
   "outputs": [],
   "source": [
    "[0, 1, 2, 3, 4, 5, 6, 7, 8, 9]"
   ]
  },
  {
   "cell_type": "code",
   "execution_count": null,
   "metadata": {},
   "outputs": [],
   "source": [
    "# OneVsRest\n",
    "#1 -> 0 contra 1..9 {True:0 , False:[1,2,3,4,5,6,7,8,9]}\n",
    "#2 -> 1 contra 2..0 {True:1 , False:[2,3,4,5,6,7,8,9,0]}\n",
    "#3 -> 2 contra 3..1 {True:2 , False:[3,4,5,6,7,8,9,0,1]}\n",
    "#4 -> ...\n",
    "#9 -> 9 contra 0..8 {True:9 , False:[0..8]}\n",
    "\n",
    "# OneVsOne\n",
    "#1 -> 0 contra 1 80%\n",
    "#2 -> 0 contra 2\n",
    "#3 -> 0 contra 3\n",
    "...\n",
    "#9 -> 0 contra 9\n",
    "#10 -> 1 contra 2\n",
    "#11 -> 1 contra 3\n"
   ]
  },
  {
   "cell_type": "code",
   "execution_count": 59,
   "metadata": {},
   "outputs": [
    {
     "data": {
      "text/plain": [
       "45.0"
      ]
     },
     "execution_count": 59,
     "metadata": {},
     "output_type": "execute_result"
    }
   ],
   "source": [
    "(10*(10-1)) / 2"
   ]
  },
  {
   "cell_type": "code",
   "execution_count": 60,
   "metadata": {},
   "outputs": [],
   "source": [
    "import itertools"
   ]
  },
  {
   "cell_type": "code",
   "execution_count": 64,
   "metadata": {},
   "outputs": [
    {
     "data": {
      "text/plain": [
       "45"
      ]
     },
     "execution_count": 64,
     "metadata": {},
     "output_type": "execute_result"
    }
   ],
   "source": [
    "len(list(itertools.combinations(range(10), 2)))"
   ]
  },
  {
   "cell_type": "code",
   "execution_count": 19,
   "metadata": {},
   "outputs": [
    {
     "data": {
      "text/plain": [
       "(150, 4)"
      ]
     },
     "execution_count": 19,
     "metadata": {},
     "output_type": "execute_result"
    }
   ],
   "source": [
    "df.shape"
   ]
  },
  {
   "cell_type": "code",
   "execution_count": 9,
   "metadata": {},
   "outputs": [],
   "source": [
    "from sklearn.model_selection import train_test_split"
   ]
  },
  {
   "cell_type": "code",
   "execution_count": 21,
   "metadata": {},
   "outputs": [],
   "source": [
    "X_train, X_test, y_train, y_test = train_test_split(X, y, test_size=0.33, random_state=42)"
   ]
  },
  {
   "cell_type": "code",
   "execution_count": 23,
   "metadata": {},
   "outputs": [
    {
     "data": {
      "text/plain": [
       "array([1, 0, 2, 1, 1, 0, 1, 2, 1, 1, 2, 0, 0, 0, 0, 1, 2, 1, 1, 2, 0, 2,\n",
       "       0, 2, 2, 2, 2, 2, 0, 0, 0, 0, 1, 0, 0, 2, 1, 0, 0, 0, 2, 1, 1, 0,\n",
       "       0, 1, 2, 2, 1, 2])"
      ]
     },
     "execution_count": 23,
     "metadata": {},
     "output_type": "execute_result"
    }
   ],
   "source": [
    "y_test"
   ]
  },
  {
   "cell_type": "code",
   "execution_count": 6,
   "metadata": {},
   "outputs": [],
   "source": [
    "from sklearn.preprocessing import StandardScaler"
   ]
  },
  {
   "cell_type": "code",
   "execution_count": 7,
   "metadata": {},
   "outputs": [],
   "source": [
    "scaler = StandardScaler()"
   ]
  },
  {
   "cell_type": "code",
   "execution_count": 24,
   "metadata": {},
   "outputs": [
    {
     "data": {
      "text/plain": [
       "StandardScaler()"
      ]
     },
     "execution_count": 24,
     "metadata": {},
     "output_type": "execute_result"
    }
   ],
   "source": [
    "scaler.fit(X_train)"
   ]
  },
  {
   "cell_type": "code",
   "execution_count": 31,
   "metadata": {},
   "outputs": [
    {
     "data": {
      "text/plain": [
       "array([-0.13835603,  2.14752625, -0.25866563, -0.8602136 ,  2.26783585,\n",
       "       -0.01804644, -0.739904  , -0.98052319, -0.8602136 , -0.98052319,\n",
       "        0.58350153, -1.22114238, -0.98052319, -0.8602136 , -0.25866563,\n",
       "       -0.8602136 , -0.13835603,  2.26783585, -1.46176157,  0.46319194,\n",
       "       -0.13835603, -0.37897522,  0.22257275, -0.01804644,  0.22257275,\n",
       "       -0.49928482,  0.46319194, -0.37897522, -0.49928482, -0.98052319,\n",
       "        0.70381112, -0.98052319, -0.98052319, -0.37897522,  1.06473991,\n",
       "       -1.10083279, -0.01804644, -0.98052319, -0.98052319,  0.10226315,\n",
       "       -0.8602136 ,  1.30535909,  0.22257275,  0.34288234,  2.26783585,\n",
       "       -0.37897522, -1.70238076, -1.82269035,  0.22257275,  1.66628788,\n",
       "       -1.46176157, -0.8602136 , -1.70238076,  0.58350153,  0.58350153,\n",
       "       -1.46176157,  1.1850495 ,  0.58350153, -1.34145197,  0.34288234,\n",
       "        0.82412072,  0.46319194,  1.42566869,  0.70381112, -0.8602136 ,\n",
       "        1.30535909,  0.10226315,  0.82412072, -0.13835603, -0.739904  ,\n",
       "        0.34288234, -1.58207116,  0.94443031, -0.37897522, -0.61959441,\n",
       "       -0.25866563,  1.78659747,  1.06473991, -0.8602136 , -1.10083279,\n",
       "        1.06473991,  1.66628788, -1.10083279,  1.06473991, -1.10083279,\n",
       "        1.30535909,  1.90690706,  0.58350153, -0.13835603,  0.82412072,\n",
       "        0.58350153,  0.70381112, -0.25866563,  0.10226315, -0.49928482,\n",
       "        0.34288234, -1.10083279, -0.01804644, -0.01804644,  1.54597828])"
      ]
     },
     "execution_count": 31,
     "metadata": {},
     "output_type": "execute_result"
    }
   ],
   "source": [
    "(X_train[:, 0] - X_train[:, 0].mean()) / X_train[:, 0].std()"
   ]
  },
  {
   "cell_type": "code",
   "execution_count": 34,
   "metadata": {},
   "outputs": [
    {
     "data": {
      "text/plain": [
       "array([ 0.34288234, -0.13835603,  2.26783585,  0.22257275,  1.1850495 ,\n",
       "       -0.49928482, -0.25866563,  1.30535909,  0.46319194, -0.01804644,\n",
       "        0.82412072, -1.22114238, -0.37897522, -1.10083279, -0.8602136 ,\n",
       "        0.58350153,  0.82412072, -0.25866563, -0.13835603,  0.70381112,\n",
       "       -1.34145197,  0.34288234, -0.98052319,  0.70381112,  2.50845503,\n",
       "        1.06473991,  1.06473991,  1.1850495 , -1.22114238, -1.22114238,\n",
       "       -1.46176157, -0.13835603,  1.06473991, -1.22114238, -1.70238076,\n",
       "        0.58350153,  0.70381112, -0.739904  , -0.98052319, -0.739904  ,\n",
       "       -0.01804644,  0.22257275,  1.06473991, -0.49928482, -0.49928482,\n",
       "       -0.37897522,  0.58350153,  0.70381112,  0.94443031,  1.66628788])"
      ]
     },
     "execution_count": 34,
     "metadata": {},
     "output_type": "execute_result"
    }
   ],
   "source": [
    "(X_test[:, 0] - X_train[:, 0].mean()) / X_train[:, 0].std()"
   ]
  },
  {
   "cell_type": "code",
   "execution_count": 33,
   "metadata": {
    "collapsed": true,
    "jupyter": {
     "outputs_hidden": true
    }
   },
   "outputs": [
    {
     "data": {
      "text/plain": [
       "array([[ 0.34288234, -0.50470526,  0.51173177, -0.02555604],\n",
       "       [-0.13835603,  1.88726279, -1.2249145 , -1.23610527],\n",
       "       [ 2.26783585, -0.98309887,  1.78527236,  1.45400413],\n",
       "       [ 0.22257275, -0.26550845,  0.39595535,  0.37796037],\n",
       "       [ 1.1850495 , -0.50470526,  0.56961997,  0.2434549 ],\n",
       "       [-0.49928482,  0.93047557, -1.34069092, -1.1015998 ],\n",
       "       [-0.25866563, -0.26550845, -0.12503853,  0.10894943],\n",
       "       [ 1.30535909,  0.21288516,  0.7432846 ,  1.45400413],\n",
       "       [ 0.46319194, -1.93988609,  0.39595535,  0.37796037],\n",
       "       [-0.01804644, -0.74390206,  0.0486261 , -0.02555604],\n",
       "       [ 0.82412072,  0.45208196,  0.7432846 ,  1.05048772],\n",
       "       [-1.22114238, -0.02631165, -1.39857913, -1.50511621],\n",
       "       [-0.37897522,  1.16967238, -1.45646733, -1.37061074],\n",
       "       [-1.10083279,  0.21288516, -1.34069092, -1.50511621],\n",
       "       [-0.8602136 ,  1.88726279, -1.34069092, -1.23610527],\n",
       "       [ 0.58350153,  0.69127877,  0.51173177,  0.51246584],\n",
       "       [ 0.82412072, -0.02631165,  1.14850206,  1.31949866],\n",
       "       [-0.25866563, -1.22229567,  0.0486261 , -0.16006151],\n",
       "       [-0.13835603, -0.50470526,  0.39595535,  0.10894943],\n",
       "       [ 0.70381112, -0.50470526,  1.03272565,  1.31949866],\n",
       "       [-1.34145197,  0.45208196, -1.28280271, -1.37061074],\n",
       "       [ 0.34288234, -0.02631165,  0.62750818,  0.78147678],\n",
       "       [-0.98052319,  0.93047557, -1.28280271, -1.1015998 ],\n",
       "       [ 0.70381112, -0.50470526,  1.03272565,  1.18499319],\n",
       "       [ 2.50845503,  1.88726279,  1.49583132,  1.05048772],\n",
       "       [ 1.06473991, -0.02631165,  0.80117281,  1.45400413],\n",
       "       [ 1.06473991, -1.22229567,  1.14850206,  0.78147678],\n",
       "       [ 1.1850495 ,  0.45208196,  1.20639027,  1.45400413],\n",
       "       [-1.22114238, -0.02631165, -1.39857913, -1.23610527],\n",
       "       [-1.22114238,  0.21288516, -1.28280271, -1.37061074],\n",
       "       [-1.46176157,  1.40886918, -1.63013196, -1.37061074],\n",
       "       [-0.13835603,  3.32244363, -1.34069092, -1.1015998 ],\n",
       "       [ 1.06473991,  0.21288516,  0.33806714,  0.2434549 ],\n",
       "       [-1.22114238,  0.93047557, -1.28280271, -1.37061074],\n",
       "       [-1.70238076,  0.45208196, -1.45646733, -1.37061074],\n",
       "       [ 0.58350153, -1.22229567,  0.68539639,  0.91598225],\n",
       "       [ 0.70381112,  0.45208196,  0.39595535,  0.37796037],\n",
       "       [-0.739904  ,  1.16967238, -1.34069092, -1.37061074],\n",
       "       [-0.98052319,  1.40886918, -1.39857913, -1.37061074],\n",
       "       [-0.739904  ,  2.60485321, -1.34069092, -1.50511621],\n",
       "       [-0.01804644, -0.74390206,  0.7432846 ,  0.91598225],\n",
       "       [ 0.22257275,  0.93047557,  0.39595535,  0.51246584],\n",
       "       [ 1.06473991,  0.21288516,  0.51173177,  0.37796037],\n",
       "       [-0.49928482,  2.1264596 , -1.45646733, -1.1015998 ],\n",
       "       [-0.49928482,  1.64806599, -1.34069092, -1.37061074],\n",
       "       [-0.37897522, -1.46149248, -0.06715032, -0.29456698],\n",
       "       [ 0.58350153, -0.50470526,  0.7432846 ,  0.37796037],\n",
       "       [ 0.70381112,  0.21288516,  0.97483744,  0.78147678],\n",
       "       [ 0.94443031, -0.02631165,  0.33806714,  0.2434549 ],\n",
       "       [ 1.66628788,  1.40886918,  1.32216669,  1.72301507]])"
      ]
     },
     "execution_count": 33,
     "metadata": {},
     "output_type": "execute_result"
    }
   ],
   "source": [
    "scaler.transform(X_test)"
   ]
  },
  {
   "cell_type": "code",
   "execution_count": 46,
   "metadata": {},
   "outputs": [],
   "source": [
    "from sklearn.linear_model import LogisticRegression\n",
    "from sklearn . multiclass import OneVsOneClassifier"
   ]
  },
  {
   "cell_type": "code",
   "execution_count": 53,
   "metadata": {},
   "outputs": [],
   "source": [
    "lg1 = LogisticRegression(penalty=\"l1\", solver='liblinear')\n",
    "lg2 = OneVsOneClassifier(LogisticRegression(penalty=\"l1\", solver='liblinear'))"
   ]
  },
  {
   "cell_type": "code",
   "execution_count": 54,
   "metadata": {},
   "outputs": [
    {
     "data": {
      "text/plain": [
       "OneVsOneClassifier(estimator=LogisticRegression(penalty='l1',\n",
       "                                                solver='liblinear'))"
      ]
     },
     "execution_count": 54,
     "metadata": {},
     "output_type": "execute_result"
    }
   ],
   "source": [
    "lg1.fit(X_train, y_train)\n",
    "lg2.fit(X_train, y_train)"
   ]
  },
  {
   "cell_type": "code",
   "execution_count": 57,
   "metadata": {},
   "outputs": [
    {
     "data": {
      "text/plain": [
       "0.96"
      ]
     },
     "execution_count": 57,
     "metadata": {},
     "output_type": "execute_result"
    }
   ],
   "source": [
    "lg1.score(X_train, y_train)"
   ]
  },
  {
   "cell_type": "code",
   "execution_count": 58,
   "metadata": {},
   "outputs": [
    {
     "data": {
      "text/plain": [
       "0.96"
      ]
     },
     "execution_count": 58,
     "metadata": {},
     "output_type": "execute_result"
    }
   ],
   "source": [
    "lg2.score(X_train, y_train)"
   ]
  },
  {
   "cell_type": "code",
   "execution_count": 55,
   "metadata": {},
   "outputs": [
    {
     "data": {
      "text/plain": [
       "0.98"
      ]
     },
     "execution_count": 55,
     "metadata": {},
     "output_type": "execute_result"
    }
   ],
   "source": [
    "lg1.score(X_test, y_test)"
   ]
  },
  {
   "cell_type": "code",
   "execution_count": 56,
   "metadata": {},
   "outputs": [
    {
     "data": {
      "text/plain": [
       "0.94"
      ]
     },
     "execution_count": 56,
     "metadata": {},
     "output_type": "execute_result"
    }
   ],
   "source": [
    "lg2.score(X_test, y_test)"
   ]
  },
  {
   "cell_type": "code",
   "execution_count": null,
   "metadata": {},
   "outputs": [],
   "source": []
  },
  {
   "cell_type": "code",
   "execution_count": 10,
   "metadata": {},
   "outputs": [
    {
     "data": {
      "text/plain": [
       "pandas.core.frame.DataFrame"
      ]
     },
     "execution_count": 10,
     "metadata": {},
     "output_type": "execute_result"
    }
   ],
   "source": [
    "type(df)"
   ]
  },
  {
   "cell_type": "code",
   "execution_count": 32,
   "metadata": {},
   "outputs": [],
   "source": [
    "from sklearn.cluster import KMeans, AgglomerativeClustering"
   ]
  },
  {
   "cell_type": "code",
   "execution_count": 33,
   "metadata": {},
   "outputs": [],
   "source": [
    "#k = KMeans(n_clusters=3, )\n",
    "k = AgglomerativeClustering()"
   ]
  },
  {
   "cell_type": "code",
   "execution_count": 34,
   "metadata": {},
   "outputs": [
    {
     "data": {
      "text/plain": [
       "AgglomerativeClustering()"
      ]
     },
     "execution_count": 34,
     "metadata": {},
     "output_type": "execute_result"
    }
   ],
   "source": [
    "k.fit(df)"
   ]
  },
  {
   "cell_type": "code",
   "execution_count": 17,
   "metadata": {},
   "outputs": [
    {
     "data": {
      "text/plain": [
       "78.851441426146"
      ]
     },
     "execution_count": 17,
     "metadata": {},
     "output_type": "execute_result"
    }
   ],
   "source": [
    "k.inertia_"
   ]
  },
  {
   "cell_type": "code",
   "execution_count": 19,
   "metadata": {},
   "outputs": [
    {
     "data": {
      "text/plain": [
       "{'algorithm': 'auto',\n",
       " 'copy_x': True,\n",
       " 'init': 'k-means++',\n",
       " 'max_iter': 300,\n",
       " 'n_clusters': 3,\n",
       " 'n_init': 10,\n",
       " 'n_jobs': 'deprecated',\n",
       " 'precompute_distances': 'deprecated',\n",
       " 'random_state': None,\n",
       " 'tol': 0.0001,\n",
       " 'verbose': 0}"
      ]
     },
     "execution_count": 19,
     "metadata": {},
     "output_type": "execute_result"
    }
   ],
   "source": [
    "k.get_params()"
   ]
  },
  {
   "cell_type": "code",
   "execution_count": 20,
   "metadata": {},
   "outputs": [
    {
     "data": {
      "text/plain": [
       "array([[6.85      , 3.07368421, 5.74210526, 2.07105263],\n",
       "       [5.006     , 3.428     , 1.462     , 0.246     ],\n",
       "       [5.9016129 , 2.7483871 , 4.39354839, 1.43387097]])"
      ]
     },
     "execution_count": 20,
     "metadata": {},
     "output_type": "execute_result"
    }
   ],
   "source": [
    "k.cluster_centers_"
   ]
  },
  {
   "cell_type": "code",
   "execution_count": 21,
   "metadata": {},
   "outputs": [
    {
     "data": {
      "text/plain": [
       "78.851441426146"
      ]
     },
     "execution_count": 21,
     "metadata": {},
     "output_type": "execute_result"
    }
   ],
   "source": [
    "k.inertia_"
   ]
  },
  {
   "cell_type": "code",
   "execution_count": 35,
   "metadata": {},
   "outputs": [
    {
     "data": {
      "text/plain": [
       "array([1, 1, 1, 1, 1, 1, 1, 1, 1, 1, 1, 1, 1, 1, 1, 1, 1, 1, 1, 1, 1, 1,\n",
       "       1, 1, 1, 1, 1, 1, 1, 1, 1, 1, 1, 1, 1, 1, 1, 1, 1, 1, 1, 1, 1, 1,\n",
       "       1, 1, 1, 1, 1, 1, 0, 0, 0, 0, 0, 0, 0, 0, 0, 0, 0, 0, 0, 0, 0, 0,\n",
       "       0, 0, 0, 0, 0, 0, 0, 0, 0, 0, 0, 0, 0, 0, 0, 0, 0, 0, 0, 0, 0, 0,\n",
       "       0, 0, 0, 0, 0, 0, 0, 0, 0, 0, 0, 0, 0, 0, 0, 0, 0, 0, 0, 0, 0, 0,\n",
       "       0, 0, 0, 0, 0, 0, 0, 0, 0, 0, 0, 0, 0, 0, 0, 0, 0, 0, 0, 0, 0, 0,\n",
       "       0, 0, 0, 0, 0, 0, 0, 0, 0, 0, 0, 0, 0, 0, 0, 0, 0, 0])"
      ]
     },
     "execution_count": 35,
     "metadata": {},
     "output_type": "execute_result"
    }
   ],
   "source": [
    "k.labels_"
   ]
  },
  {
   "cell_type": "code",
   "execution_count": 36,
   "metadata": {},
   "outputs": [
    {
     "data": {
      "text/plain": [
       "150"
      ]
     },
     "execution_count": 36,
     "metadata": {},
     "output_type": "execute_result"
    }
   ],
   "source": [
    "k.n_leaves_\n",
    "k."
   ]
  },
  {
   "cell_type": "code",
   "execution_count": 23,
   "metadata": {},
   "outputs": [
    {
     "data": {
      "text/plain": [
       "4"
      ]
     },
     "execution_count": 23,
     "metadata": {},
     "output_type": "execute_result"
    }
   ],
   "source": [
    "k.n_features_in_"
   ]
  },
  {
   "cell_type": "code",
   "execution_count": 24,
   "metadata": {},
   "outputs": [
    {
     "data": {
      "text/plain": [
       "5"
      ]
     },
     "execution_count": 24,
     "metadata": {},
     "output_type": "execute_result"
    }
   ],
   "source": [
    "k.n_iter_"
   ]
  },
  {
   "cell_type": "code",
   "execution_count": 26,
   "metadata": {},
   "outputs": [],
   "source": [
    "from sklearn.base import BaseEstimator\n",
    "import numpy as np"
   ]
  },
  {
   "cell_type": "code",
   "execution_count": 27,
   "metadata": {},
   "outputs": [],
   "source": [
    "class AlgoGene(BaseEstimator):\n",
    "    def fit(self, X):\n",
    "        return 'Modelo sendo treinado'\n",
    "    def predict(self, X):\n",
    "        return np.ones_like(X)"
   ]
  },
  {
   "cell_type": "code",
   "execution_count": 28,
   "metadata": {},
   "outputs": [],
   "source": [
    "a = AlgoGene()"
   ]
  },
  {
   "cell_type": "code",
   "execution_count": 29,
   "metadata": {},
   "outputs": [
    {
     "data": {
      "text/plain": [
       "'Modelo sendo treinado'"
      ]
     },
     "execution_count": 29,
     "metadata": {},
     "output_type": "execute_result"
    }
   ],
   "source": [
    "a.fit(np.ones((3,3)))"
   ]
  },
  {
   "cell_type": "code",
   "execution_count": 31,
   "metadata": {},
   "outputs": [
    {
     "data": {
      "text/plain": [
       "array([[1., 1., 1.],\n",
       "       [1., 1., 1.],\n",
       "       [1., 1., 1.]])"
      ]
     },
     "execution_count": 31,
     "metadata": {},
     "output_type": "execute_result"
    }
   ],
   "source": [
    "a.predict(np.zeros((3,3)))"
   ]
  },
  {
   "cell_type": "code",
   "execution_count": 42,
   "metadata": {},
   "outputs": [],
   "source": [
    "from sklearn.linear_model import LogisticRegression"
   ]
  },
  {
   "cell_type": "code",
   "execution_count": 38,
   "metadata": {},
   "outputs": [],
   "source": [
    "df = load_iris()"
   ]
  },
  {
   "cell_type": "code",
   "execution_count": 40,
   "metadata": {},
   "outputs": [
    {
     "data": {
      "text/plain": [
       "dict_keys(['data', 'target', 'frame', 'target_names', 'DESCR', 'feature_names', 'filename'])"
      ]
     },
     "execution_count": 40,
     "metadata": {},
     "output_type": "execute_result"
    }
   ],
   "source": [
    "df.keys()"
   ]
  },
  {
   "cell_type": "code",
   "execution_count": 41,
   "metadata": {},
   "outputs": [],
   "source": [
    "X = df['data']\n",
    "y = df['target']"
   ]
  },
  {
   "cell_type": "code",
   "execution_count": 45,
   "metadata": {},
   "outputs": [],
   "source": [
    "l = LogisticRegression(max_iter=400)"
   ]
  },
  {
   "cell_type": "code",
   "execution_count": 46,
   "metadata": {},
   "outputs": [
    {
     "data": {
      "text/plain": [
       "LogisticRegression(max_iter=400)"
      ]
     },
     "execution_count": 46,
     "metadata": {},
     "output_type": "execute_result"
    }
   ],
   "source": [
    "l.fit(X, y)"
   ]
  },
  {
   "cell_type": "code",
   "execution_count": 48,
   "metadata": {},
   "outputs": [
    {
     "data": {
      "text/plain": [
       "0.9733333333333334"
      ]
     },
     "execution_count": 48,
     "metadata": {},
     "output_type": "execute_result"
    }
   ],
   "source": [
    "l.score(X, y)"
   ]
  },
  {
   "cell_type": "code",
   "execution_count": null,
   "metadata": {},
   "outputs": [],
   "source": []
  }
 ],
 "metadata": {
  "kernelspec": {
   "display_name": "Python 3",
   "language": "python",
   "name": "python3"
  },
  "language_info": {
   "codemirror_mode": {
    "name": "ipython",
    "version": 3
   },
   "file_extension": ".py",
   "mimetype": "text/x-python",
   "name": "python",
   "nbconvert_exporter": "python",
   "pygments_lexer": "ipython3",
   "version": "3.8.5"
  }
 },
 "nbformat": 4,
 "nbformat_minor": 4
}
