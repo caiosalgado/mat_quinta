{
 "cells": [
  {
   "cell_type": "markdown",
   "metadata": {},
   "source": [
    "# 1\n",
    "\n",
    "Compania A | 40% | 5%\n",
    "\n",
    "Compania B | 30% | 3%\n",
    "\n",
    "Compania C | 30% | 2,5%"
   ]
  },
  {
   "cell_type": "code",
   "execution_count": 51,
   "metadata": {},
   "outputs": [],
   "source": [
    "import random\n",
    "from tqdm import tqdm"
   ]
  },
  {
   "cell_type": "code",
   "execution_count": 26,
   "metadata": {},
   "outputs": [
    {
     "data": {
      "text/plain": [
       "array(['a'], dtype='<U1')"
      ]
     },
     "execution_count": 26,
     "metadata": {},
     "output_type": "execute_result"
    }
   ],
   "source": [
    "from numpy.random import choice\n",
    "draw = choice(('a','b'), 1,\n",
    "              p=(0.90,0.1))\n",
    "draw"
   ]
  },
  {
   "cell_type": "code",
   "execution_count": 27,
   "metadata": {},
   "outputs": [
    {
     "data": {
      "text/plain": [
       "0.975"
      ]
     },
     "execution_count": 27,
     "metadata": {},
     "output_type": "execute_result"
    }
   ],
   "source": [
    "pa = (1-0.025)\n",
    "pa"
   ]
  },
  {
   "cell_type": "code",
   "execution_count": 42,
   "metadata": {},
   "outputs": [],
   "source": [
    "a_late = 0\n",
    "b_late = 0\n",
    "c_late = 0\n",
    "my_list = ['A'] * 4 + ['B'] * 3 + ['C'] * 3\n",
    "n = int(10e5)\n",
    "for i in range(n):\n",
    "    company = random.choice(my_list)\n",
    "    if company == \"A\":\n",
    "        late = choice((False,True), 1, p=(0.95,0.05))\n",
    "        if late:\n",
    "            a_late += 1\n",
    "    if company == \"B\":\n",
    "        late = choice((False,True), 1, p=(0.97,0.03))\n",
    "        if late:\n",
    "            b_late += 1\n",
    "    if company == \"C\":\n",
    "        late = choice((False,True), 1, p=(0.975,0.025))\n",
    "        if late:\n",
    "            c_late += 1\n",
    "            \n",
    "            "
   ]
  },
  {
   "cell_type": "code",
   "execution_count": 43,
   "metadata": {},
   "outputs": [
    {
     "data": {
      "text/plain": [
       "0.549062207799351"
      ]
     },
     "execution_count": 43,
     "metadata": {},
     "output_type": "execute_result"
    }
   ],
   "source": [
    "a_late / (a_late + b_late + c_late)"
   ]
  },
  {
   "cell_type": "markdown",
   "metadata": {},
   "source": [
    "- OC | 51% adults male\n",
    "- 1 adulto é randomicamente selecionado \n",
    "- 9.5% dos homens fumam\n",
    "- 1.7% das mulheres fumam\n"
   ]
  },
  {
   "cell_type": "code",
   "execution_count": 52,
   "metadata": {},
   "outputs": [
    {
     "name": "stderr",
     "output_type": "stream",
     "text": [
      "100%|██████████| 100000/100000 [00:17<00:00, 5651.06it/s]\n"
     ]
    }
   ],
   "source": [
    "homem = 0\n",
    "mulher = 0\n",
    "\n",
    "n = int(100_000)\n",
    "for i in tqdm(range(n)):\n",
    "    gender = choice(('M','F'), 1, p=(0.51,0.49))[0]\n",
    "    if gender == \"M\":\n",
    "        fumante = choice((False,True), 1, p=(0.905,0.095))\n",
    "        if fumante:\n",
    "            homem += 1\n",
    "    if gender == \"F\":\n",
    "        fumante = choice((False,True), 1, p=(0.983,0.017))\n",
    "        if fumante:\n",
    "            mulher += 1"
   ]
  },
  {
   "cell_type": "code",
   "execution_count": 50,
   "metadata": {},
   "outputs": [
    {
     "data": {
      "text/plain": [
       "0.854086476777008"
      ]
     },
     "execution_count": 50,
     "metadata": {},
     "output_type": "execute_result"
    }
   ],
   "source": [
    "homem / (homem + mulher)"
   ]
  },
  {
   "cell_type": "markdown",
   "metadata": {},
   "source": [
    "# 3\n",
    "\n",
    " - Usa o carro 30% -> 3%\n",
    " - Anda 30% -> 10%\n",
    " - Usa o busao 40% -> 7%\n",
    " \n",
    " "
   ]
  },
  {
   "cell_type": "code",
   "execution_count": 59,
   "metadata": {},
   "outputs": [
    {
     "name": "stderr",
     "output_type": "stream",
     "text": [
      "100%|██████████| 100000/100000 [01:06<00:00, 1512.84it/s]\n"
     ]
    }
   ],
   "source": [
    "atrasou = 0\n",
    "nao_atrasou = 0\n",
    "busao = 0\n",
    "carro = 0\n",
    "tenis = 0\n",
    "\n",
    "andou = 0\n",
    "\n",
    "moeda1 = ('busao','carro','tenis'), (.4, .3, .3)\n",
    "\n",
    "n = int(100_000)\n",
    "for i in tqdm(range(n)):\n",
    "    veiculo = choice(moeda1[0], 1, p=moeda1[1])[0]\n",
    "    if veiculo == 'busao':\n",
    "        atrasou_bool = choice((False,True), 1, p=(0.93,0.07))\n",
    "        if atrasou_bool:\n",
    "            atrasou += 1\n",
    "            busao += 1\n",
    "    if veiculo == 'carro':\n",
    "        atrasou_bool = choice((False,True), 1, p=(0.97,0.03))\n",
    "        if atrasou_bool:\n",
    "            atrasou += 1\n",
    "            carro += 1\n",
    "    if veiculo == 'tenis':\n",
    "        atrasou_bool = choice((False,True), 1, p=(0.9,0.1))\n",
    "        if atrasou_bool:\n",
    "            atrasou += 1\n",
    "            tenis += 1\n",
    "        else:\n",
    "            andou += 1"
   ]
  },
  {
   "cell_type": "code",
   "execution_count": 60,
   "metadata": {},
   "outputs": [
    {
     "data": {
      "text/plain": [
       "0.4178019981834696"
      ]
     },
     "execution_count": 60,
     "metadata": {},
     "output_type": "execute_result"
    }
   ],
   "source": [
    "a = busao / (busao + carro + tenis)\n",
    "a"
   ]
  },
  {
   "cell_type": "code",
   "execution_count": 61,
   "metadata": {},
   "outputs": [
    {
     "data": {
      "text/plain": [
       "0.27112"
      ]
     },
     "execution_count": 61,
     "metadata": {},
     "output_type": "execute_result"
    }
   ],
   "source": [
    "b = andou / n\n",
    "b"
   ]
  },
  {
   "cell_type": "markdown",
   "metadata": {},
   "source": [
    "# 4\n",
    "\n",
    "45% foram para a prisao | 40% culpados\n",
    "\n",
    "55% nao foram | 55% culpados\n"
   ]
  },
  {
   "cell_type": "code",
   "execution_count": 62,
   "metadata": {},
   "outputs": [
    {
     "name": "stderr",
     "output_type": "stream",
     "text": [
      "100%|██████████| 100000/100000 [00:40<00:00, 2480.21it/s]\n"
     ]
    }
   ],
   "source": [
    "a = 0.55\n",
    "nao_presos = 0\n",
    "presos = 0\n",
    "culpado_preso = 0 \n",
    "culpado_solto = 0 # quero descobrir a prob desse cara\n",
    "                  # dentro do dominio dos culpados\n",
    "\n",
    "n = int(100_000)\n",
    "for i in tqdm(range(n)):\n",
    "    prisao = choice((True,False), 1, p=(.45, .55))[0]\n",
    "    if prisao:\n",
    "        #presos += 1\n",
    "        culpado = choice((True,False), 1, p=(.4, .6))\n",
    "        if culpado:\n",
    "            culpado_preso += 1\n",
    "    else:\n",
    "        culpado = choice((True,False), 1, p=(.55, .45))\n",
    "        if culpado:\n",
    "            culpado_solto += 1"
   ]
  },
  {
   "cell_type": "code",
   "execution_count": 65,
   "metadata": {},
   "outputs": [
    {
     "data": {
      "text/plain": [
       "0.6276473895749599"
      ]
     },
     "execution_count": 65,
     "metadata": {},
     "output_type": "execute_result"
    }
   ],
   "source": [
    "culpado_solto / (culpado_preso + culpado_solto)"
   ]
  },
  {
   "cell_type": "code",
   "execution_count": null,
   "metadata": {},
   "outputs": [],
   "source": []
  }
 ],
 "metadata": {
  "kernelspec": {
   "display_name": "Python 3",
   "language": "python",
   "name": "python3"
  },
  "language_info": {
   "codemirror_mode": {
    "name": "ipython",
    "version": 3
   },
   "file_extension": ".py",
   "mimetype": "text/x-python",
   "name": "python",
   "nbconvert_exporter": "python",
   "pygments_lexer": "ipython3",
   "version": "3.8.5"
  }
 },
 "nbformat": 4,
 "nbformat_minor": 4
}
