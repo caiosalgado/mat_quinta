{
 "cells": [
  {
   "cell_type": "markdown",
   "metadata": {},
   "source": [
    "# Para iniciar o Git na pasta indicada digite:\n",
    "`git init`"
   ]
  },
  {
   "cell_type": "code",
   "execution_count": null,
   "metadata": {},
   "outputs": [],
   "source": [
    "!git init"
   ]
  },
  {
   "cell_type": "markdown",
   "metadata": {},
   "source": [
    "# Para saber o estado de seu repositório digite:\n",
    "\n",
    "`git status`"
   ]
  },
  {
   "cell_type": "code",
   "execution_count": 2,
   "metadata": {},
   "outputs": [
    {
     "name": "stdout",
     "output_type": "stream",
     "text": [
      "On branch master\r\n",
      "\r\n",
      "No commits yet\r\n",
      "\r\n",
      "Untracked files:\r\n",
      "  (use \"git add <file>...\" to include in what will be committed)\r\n",
      "\r\n",
      "\t\u001b[31m.DS_Store\u001b[m\r\n",
      "\t\u001b[31m.ipynb_checkpoints/\u001b[m\r\n",
      "\t\u001b[31mAPI Wikipedia.ipynb\u001b[m\r\n",
      "\t\u001b[31mCOTAHIST_A2009_to_A2018P.csv\u001b[m\r\n",
      "\t\u001b[31mCriando Widgets.ipynb\u001b[m\r\n",
      "\t\u001b[31mHTML vs. Jupyter.ipynb\u001b[m\r\n",
      "\t\u001b[31mHusrt TCC.ipynb\u001b[m\r\n",
      "\t\u001b[31mImportando Dados - Criando Base.ipynb\u001b[m\r\n",
      "\t\u001b[31mIntArt/\u001b[m\r\n",
      "\t\u001b[31mLivro Python.ipynb\u001b[m\r\n",
      "\t\u001b[31m\"L\\303\\263gica Fuzzy.ipynb\"\u001b[m\r\n",
      "\t\u001b[31mTensorF/\u001b[m\r\n",
      "\t\u001b[31mUntitled1.ipynb\u001b[m\r\n",
      "\t\u001b[31mUsando GIT.ipynb\u001b[m\r\n",
      "\t\u001b[31mcap.png\u001b[m\r\n",
      "\t\u001b[31mipython-ipython-in-depth-d0c1c2a/\u001b[m\r\n",
      "\t\u001b[31mtext/\u001b[m\r\n",
      "\r\n",
      "nothing added to commit but untracked files present (use \"git add\" to track)\r\n"
     ]
    }
   ],
   "source": [
    "!git status"
   ]
  },
  {
   "cell_type": "markdown",
   "metadata": {},
   "source": [
    "## O que vemos com o comando acima?\n",
    "R. Os arquivos que estão na area de testes. O Git possui uma área de testes na qual armazena os arquivos com as mudancas que vc deseja salvar e ainda nao foram salvas. Colocar arquivos na area de testes é como colocar as coisas em uma caixa, enquanto comitando essas alterações é como colocar essa caixa no correio. Voce pode adicionar mais coisas a caixa ou tirar coisas com a frequencia desejada, mas uma vez que você a coloca no correio, voce nao pode fazer mais mudancas."
   ]
  },
  {
   "cell_type": "markdown",
   "metadata": {},
   "source": [
    "`git status` mostra quais arquivos estão nesta area de testes e quais arquivos tem alteracoes que ainda nao foram colocadas na caixa do correio. Para comparar o arquivo como é atualmente com o que voce salvou pela ultima vez, voce pode usar `git diff nome_do_arquivo`. `git diff` sem qualquer nome de arquivo ira mostrar todas as mudancas que existem em seu repositório, enquanto `git diff diretorio` ira mostrar as mudancas dos arquivos do diretorio."
   ]
  },
  {
   "cell_type": "markdown",
   "metadata": {},
   "source": [
    "## Como verificar como está nossa configuração do Git\n",
    "`git config --list`\n",
    "\n",
    "Para mudar digitamos:\n",
    "\n",
    "`git config --global user.name \"Caio Salgado\"`\n",
    "\n",
    "`git config --global user.email caio.salgado@hotmail.com`\n"
   ]
  },
  {
   "cell_type": "markdown",
   "metadata": {},
   "source": [
    "## Vamos criar um arquivo Readme.md\n",
    "\n",
    "`touch readme.md`\n",
    "\n",
    "Vamos checar se o arquivo foi criado, no terminal usamos:\n",
    "\n",
    "`ls`\n",
    "\n"
   ]
  },
  {
   "cell_type": "markdown",
   "metadata": {},
   "source": [
    "## Como salvar as mudancas?\n",
    "`git add nome_do_arquivo`"
   ]
  },
  {
   "cell_type": "markdown",
   "metadata": {},
   "source": [
    "## Como saber o que vai ser comitado?\n",
    "Para comparar o estado atual do arquivo com as mudancas da area de teste, vc pode usar `git diff -r HEAD path/to/file`. O `-r` significa comparar com uma versao particular. `HEAD` é um atalho que significa \"o commit mais recente\", e o caminho para o arquivo é o relativo a onde vc esta (por exemplo, o caminho do diretorio raiz do repositorio). "
   ]
  },
  {
   "cell_type": "code",
   "execution_count": null,
   "metadata": {},
   "outputs": [],
   "source": [
    "!git diff -r HEAD nome_do_arquivo.txt"
   ]
  },
  {
   "cell_type": "markdown",
   "metadata": {},
   "source": [
    "## Como salvo (commit) o arquivo?\n",
    "QUando vc comete alteracoes, o Git exige que vc insira uma mensagem de log. Ele é importante para que uma outra pessoa possa entender o que foi mudado. Por padrao, o Git lança um editor de texto para que vc possa escrever a mensagem. Para manter as coisas simples, vc pode usar `-m \"alguma msg com aspas\"` na linha de comando para inserir uma msg de unica linha como no exemplo abaixo:<br>\n",
    "`git commit -r \"O programa parece ter se tornado auto consiente\"`"
   ]
  },
  {
   "cell_type": "markdown",
   "metadata": {},
   "source": [
    "## Qual a diferença entre add e commit?\n",
    "\n",
    "Em add salvamos a versão atual do projeto em que estamos trabalhando, commit seria mais usado no caso de uma nova versão do código."
   ]
  },
  {
   "cell_type": "markdown",
   "metadata": {},
   "source": [
    "## Hands on\n",
    "\n",
    "Criar um arquivo, usar `git add`.\n",
    "\n",
    "Criar outro arquivo, usar `git status`. Usar `git add`."
   ]
  },
  {
   "cell_type": "markdown",
   "metadata": {},
   "source": [
    "## Quando temos muitos arquivos para adicionar, existe um comando que adiciona tudo de uma vez?\n",
    "\n",
    "Sim. Usamos `git add .`\n",
    "\n",
    "Ou `git add \"*.txt\"` para adicionarmos todos arquivos de uma mesma extensão."
   ]
  },
  {
   "cell_type": "markdown",
   "metadata": {},
   "source": [
    "## Como criar arquivos para o Git não rastrear?\n",
    "\n",
    "Criando um arquivo `.gitignore`\n",
    "\n",
    "Hands on:\n",
    "\n",
    "`touch .gitignore`\n",
    "`atom .gitignore`\n",
    "\n",
    "Com o arquivo aberto digitamos:\n",
    "\n",
    "    *.exe\n",
    "    DS_Store\n",
    "    /foo/*\n",
    "    file.txt\n",
    "    \n",
    "Vamos criar um arquivo file.txt e ver se tudo ocorreu bem."
   ]
  },
  {
   "cell_type": "markdown",
   "metadata": {},
   "source": [
    "#### Extra:\n",
    "\n",
    "Git tem templates de sugestão de arquivos a serem ignorados.\n",
    "\n",
    "Confira em: https://github.com/github/gitignore"
   ]
  },
  {
   "cell_type": "markdown",
   "metadata": {},
   "source": [
    "## Criando um repositório no site do Github e iniciando o rastreamento\n",
    "\n",
    "Hands on!"
   ]
  },
  {
   "cell_type": "markdown",
   "metadata": {},
   "source": [
    "## Como posso visualizar o historico de um repositorio?\n",
    "O comando `git log` é usado para visualizar o registro do historico do projeto. As entradas do registro são mostradas as mais recentes primeiro. <br>\n",
    "A linha `commit` exibe um ID exclusiva para o commit chamado de hash; as outras linhas dizem a vc quem fez as mudancas, quando e as mensagens de log.<br>\n",
    "Quando vc executa `git log`, o Git usa automaticamente um pager para mostrar uma tela de saída por vez. Pressione a barra de espaço para baixar uma página ou a tecla 'q' para sair."
   ]
  },
  {
   "cell_type": "markdown",
   "metadata": {},
   "source": [
    "## Como posso visualizar o historico de um arquivo especifico?\n",
    "O log inteiro de um projeto pode ser esmagador, por isso é util pesquisar apenas as alteracoes em arquivos ou diretorios especificos. Voce pode fazer isso usando `git log path`, onde o `path`é o caminho para um arquivo ou diretorio especifico. O log para um arquivo mostra as alteracoes feitas nesse arquivo; o log para um arquivo mostra as alteracoes feitas nesse arquivo; o log para um diretorio mostra quando os arquivos foram adicionados ou excluidos nesse diretorio, e nao quando o conteudo dos arquivos do diretorio foi alterado."
   ]
  },
  {
   "cell_type": "markdown",
   "metadata": {},
   "source": [
    "## Como eu escrevo uma mensagem de log melhor?\n",
    "Escrever uma mensagem de log de uma linha com git commit -m \"mensagem\" é bom o suficiente para mudancas muito pequenas, mas seus colaboradores (incluindo vc no futuro) apreciarao mais informacoes. Se vc executar git commit sem -m \"mensagem\", o Git lanca um editor de texto.<br>\n",
    "As linhas que começam com # são comentários e não serão salvas. (Eles estão lá para lembrar o que vc deveria fazer e quais arquivos voce mudou.) Sua mensagem deve ir no topo e pode ser tao longa e detalhada quando desejar."
   ]
  },
  {
   "cell_type": "markdown",
   "metadata": {},
   "source": [
    "## Como posso visualizar um commit especifico?\n",
    "para ver os detalhes de um commit especifico, voce usa o comando `git show` com os primeiros caracteres do hash do commit. <br>\n",
    "A primeira parte é a mesma que a entrada de log mostrada pelo `git log`. A segunda parte mostra as mudancas; como `git diff` as linhas removidas sao prefixadas com `-`enquanto as linhas adicionadas sao prefixadas com `+`."
   ]
  },
  {
   "cell_type": "markdown",
   "metadata": {},
   "source": [
    "## Como posso saber quem alterou o arquivo?\n",
    "`git annotate report.txt`"
   ]
  },
  {
   "cell_type": "markdown",
   "metadata": {},
   "source": [
    "## Como posso ver o que mudou entre dois commits?\n",
    "`git diff ID1..ID2`"
   ]
  },
  {
   "cell_type": "markdown",
   "metadata": {},
   "source": [
    "## Como eu removo arquivos que eu nao quero?\n",
    "Git pode ajuda-lo a limpar os arquivos que voce disse que nao quer. O comando `git clean -n` irá mostrar uma lista de arquivos que estao no repositorio, mas cujo historico o Git nao esta rastreando. Um comando similar `git clean -f` irá entao excluir esses arquivos.<br>\n",
    "Use esse comando com cuidado: `git clean` só funciona em arquivos nao rastreados, portanto, por definicao, seu historico nao foi salvo. Se vc exclui-los com `git clean -f`, eles se foram para o bem."
   ]
  },
  {
   "cell_type": "markdown",
   "metadata": {},
   "source": [
    "## Como posso ver como o Git esta configurado?\n",
    "Como os mais complexos softwares, o Git permite que vc altere suas configuracoes padrao. Para ver quais sao as configuracoes, vc pode usar o comando `git config --list` com umas das tres opcoes adicionais:\n",
    "<br><br>\n",
    "`--system` configuracoes para cada usuario neste computador\n",
    "\n",
    "`--global` configuracoes para cada um de seus projetos\n",
    "\n",
    "`--local`configuracoes para um projeto especifico\n",
    "\n",
    "Cada nivel substitui o acima, portanto, as configuracoes locais (por projeto) tem precedencia sobre as configuracoes globais (por usuario), que por sua vez tem precedencia sobre as configuracoes do sistema (para todos os usuarios no computador)."
   ]
  },
  {
   "cell_type": "code",
   "execution_count": 2,
   "metadata": {},
   "outputs": [
    {
     "name": "stdout",
     "output_type": "stream",
     "text": [
      "user.email=caio.salgado@hotmail.com\r\n",
      "user.name=Caio Salgado\r\n"
     ]
    }
   ],
   "source": [
    "!git config --list --global"
   ]
  },
  {
   "cell_type": "markdown",
   "metadata": {},
   "source": [
    "## Como mudar minha configuracao do Git?\n",
    "A maioria das configuracoes do Git deve ser deixada como estao. No entanto, ha dois que voce deve definir em todos os computadores que vc usa: seu nome e seu endereco de e-mail. Estes sao registrados no registro toda vez que vc comete uma alteracao, e geralmente sao usados para identificar os autores do conteudo de um projeto para dar credito (ou atribuir culpa, dependendo das circunstancias).\n",
    "\n",
    "Para alterar um valor de configuracao para todos os seus projetos em um computador especifico, execute o comando:"
   ]
  },
  {
   "cell_type": "code",
   "execution_count": 4,
   "metadata": {},
   "outputs": [],
   "source": [
    "!git config --global user.email caio.salgado@hotmail.com"
   ]
  },
  {
   "cell_type": "code",
   "execution_count": 6,
   "metadata": {},
   "outputs": [],
   "source": [
    "!git config --global user.name \"Caio Salgado\""
   ]
  },
  {
   "cell_type": "markdown",
   "metadata": {},
   "source": [
    "## Como posso confirmar mudanças seletivamente?\n",
    "Vc nao precisa colocar todas as mudancas que vc fez recentemente na area de teste ao mesmo tempo. Por exemplo, suponha que vc esteja adicionando um recurso à `analysis.R` e veja um bug em `cleanup.R`. Depois de corrigir, vc deseja salvar seu trabalho. Uma vez que as alteracoes à `cleanup.R` nao estao diretamente relacionadas ao trabalho que vc esta fazendo na `analysis.R`, vc pode salvar seu trabalho em dois compromissos distintos.\n",
    "\n",
    "Por fim use `git add arquivo_selecionado`"
   ]
  },
  {
   "cell_type": "markdown",
   "metadata": {},
   "source": [
    "## Como faco para reescalar arquivos?\n",
    "As pessoas geralmente salvam seu trabalho a cada poucos minutos quando estao usando um editor de texto no desktop. Da mesma forma, é comum usar `git add` periodicamente para salvar as mudancas mais recentes em um arquivo para a área de teste. Isso é particularmente util quando as mudancas sao experimentais e vc pode querer desfaze-las sem confundir o historico do repositorio."
   ]
  },
  {
   "cell_type": "markdown",
   "metadata": {},
   "source": [
    "## Como posso desfazer as alteracoes em arquivos nao gravados?\n",
    "Suponha que vc tenha feito alteracoes em um arquivo e entao decida que deseja desfaze-los. Seu editor de texto pode ser capaz de fazer isso, mas uma maneira mais confiavel é deixar o Git fazer o trabalho. O comando:\n",
    "\n",
    "`git checkout -- filename`\n",
    "\n",
    "descartará as mudancas que ainda nao foram encenadas. (O duplo dash `--` deve estar lá para separar o comando `git checkout` do nome dos arquivos que vc quer recuperar)\n",
    "\n",
    "*Use this command carefully: once you discard changes in this way, they are gone forever.*"
   ]
  },
  {
   "cell_type": "markdown",
   "metadata": {},
   "source": [
    "## Como posso inutilizar um arquivo que eu escalei?\n",
    "`git checkout -- filename` irá desfazer as alteracoes que ainda nao foram encenadas. Se vc deseja desfazer as mudancas que **foram escaladas**, vc pode usar `git reset HEAD filename`. Isso nao restaura o arquivo para o estado em que estava antes de fazer alteracoes. Em vez disso, ele redefine o arquivo para o estado que vc organizou pela ultima vez. Se vc quiser ir ate o lugar onde estava antes de comecar a fazer alteracoes, vc deve fazer `git checkout -- filename`."
   ]
  },
  {
   "cell_type": "markdown",
   "metadata": {},
   "source": [
    "## Como faco para restaurar uma versao antiga de um arquivo?\n",
    "Como o Git armazena versoes antigas de seus arquivos, voce pode usá-lo para restaurar esses arquivos quando deseja desfazer as alteracoes. O comando para fazer isso é `git checkout`, que leva dois argumentos: o hash que identifica a versao que deseja restaurar e o nome do arquivo. \n",
    "\n",
    "`git checkout hash nome_do_arquivo`\n",
    "\n",
    "Restaurar um arquivo nao apaga nenhum historico do repositorio. Em vez disso, o ato de restaurar o arquivo é salvo com outro commit, porque vc pode querer desfazer sua destrição."
   ]
  },
  {
   "cell_type": "markdown",
   "metadata": {},
   "source": [
    "## Como desfazer todas as mudancas que fiz?\n",
    "Até agora, vc viu como desfazer as alteracoes em um unico arquivo por vez. As vezes, vc deseja desfazer as alteracoes em muitos arquivos. Uma maneira de fazer isso é dar `git reset` e `git checkout` um diretorio como argumento em vez de nomes de um ou mais arquivos. Por exemplo, `git reset HEAD data` desecalará qualquer arquivo do diretorio `data` que vc escalou, e `git checkout -- data` irá restaurar esses artquivos em seu estado anterior."
   ]
  },
  {
   "cell_type": "markdown",
   "metadata": {},
   "source": [
    "## Como posso ver o quais ramos tem meu repositorio?\n",
    "Por padrao, todo repositorio Git possui um ramo chamado `master` (é por isso que vc esta vendo essa palavra na saida do Git em licoes anteriores). Para listar todos os ramos em um repositorio, vc pode executar o comando `git branch`. O ramo em que vc esta atualmente sera exibido com `*`ao lado do seu nome."
   ]
  },
  {
   "cell_type": "code",
   "execution_count": 12,
   "metadata": {},
   "outputs": [],
   "source": [
    "!git branch"
   ]
  },
  {
   "cell_type": "markdown",
   "metadata": {},
   "source": [
    "## Como criar uma nova branch?"
   ]
  },
  {
   "cell_type": "code",
   "execution_count": 13,
   "metadata": {},
   "outputs": [
    {
     "name": "stdout",
     "output_type": "stream",
     "text": [
      "Switched to a new branch 'master'\r\n"
     ]
    }
   ],
   "source": [
    "!git checkout -b branch-name"
   ]
  },
  {
   "cell_type": "markdown",
   "metadata": {},
   "source": [
    "## Como posso mudar de um ramo para outro?\n",
    "Quando vc executa `git branch`, coloca um `*` ao lado do nome do ramo em que vc esta atualmente. Pra alternar para outro ramo, vc usa o comando `git checkout nome_da_branch`.\n",
    "\n",
    "Note: Git will only let you do this if all of your changes have been committed. You can get around this, but it is outside the scope of this course."
   ]
  },
  {
   "cell_type": "markdown",
   "metadata": {},
   "source": [
    "## Como deletar um arquivo e salvar?\n",
    "`git rm nome_do_arquivo`\n",
    "\n",
    "`git commit -m \"mensagem\"`"
   ]
  },
  {
   "cell_type": "markdown",
   "metadata": {},
   "source": [
    "## Como posso mesclar dois ramos?\n",
    "Branching permite que vc crie universos paralelos; A fusão é como vc os reune. QUando vc mescla um ramo (chame-o a fonte) para outro (chame-o o destino), o Git incorpora as mudanças feitas no ramo de origem no ramo de destino. Se essas alteracoes nao se sobrepoe, o resultado é um novo commi no ramo de destino que inclui tudo do ramo de origem. \n",
    "\n",
    "Para fundir duas branches, vc executa `git merge source destination` (sem `..`entre os dois nomes de ramificacao). O Git abre automaticamente um editor para que vc possa escrever uma mensagem de registro para a mesclagem; Vc pode manter sua mensagem padrao ou preencher algo mais informativo."
   ]
  },
  {
   "cell_type": "markdown",
   "metadata": {},
   "source": [
    "## Como posso mesclar dois ramos com conflitos?\n",
    "Quando há um conflito durante uma fusão, o Git diz que há um problema e usando `git status` após a mesclagem lembramos quais arquivos possuem conflitos que vc precisa resolver imprimindo `both modified:` ao lado dos nomes dos arquivos.\n",
    "\n",
    "Dentro do arquivo, Git deixa marcadores que se parecem com isso para dizer onde os conflitos ocorreram:\n",
    "\n",
    "`<<<<<<< destination-branch-name`\n",
    "\n",
    "`...changes from the destination branch...`\n",
    "\n",
    "`=======`\n",
    "\n",
    "`...changes from the source branch...`\n",
    "\n",
    "`>>>>>>> source-branch-name`\n",
    "\n",
    "(Em muitos casos, o nome do ramo de destino será `HEAD`, porque vc estará mesclando no ramo atual.) Para resolver o conflito, edite o arquivo para remover os marcadores e faça qualquer outra alteração necessária para conciliar as alterações e, em seguida, comite essas mudanças.\n",
    "\n",
    "Sequencia de comandos:\n",
    "`git merge alter-report-title master`\n",
    "\n",
    "`git status`\n",
    "\n",
    "`nano report.txt`\n",
    "\n",
    "`git add report.txt`\n",
    "\n",
    "`git commit -m \"Conflito resolvido\"`"
   ]
  },
  {
   "cell_type": "markdown",
   "metadata": {},
   "source": [
    "## Como posso criar um novo repositório?\n",
    "Até agora, vc trabalha com repositórios que criamos. Se vc quiser criar um repositório para um novo projeto, basta dizer `git init project-name`, onde \"project-name\" é o nome que deseja que o diretório raiz do novo repositório tenha.\n",
    "\n",
    "uma coisa que vc *nao* deve fazer é criar um repositório Git dentro de outro. Embora o Git permita isso, a atualizacao dos **repositórios aninhados** torna-se muito complicada muito rapidamente, pois vc precisa dizer ao Git quais dos dois diretórios `.git` que a atualização deve ser armazenada. Projetos Muito grandes ocasionalmente precisam fazer isso, mas a maioria dos programadores e dados Os analistas tentam evitar entrar nessa situação."
   ]
  },
  {
   "cell_type": "markdown",
   "metadata": {},
   "source": [
    "## Como posso transformar um projeto existente em um repositório Git?\n",
    "Usuários experientes do Git instintivamente iniciam novos projetos criando repositórios. Se vc é novo no Git, no entanto, ou trabalhando com pessoas que são, vc geralmente quererá converter projetos existentes em repositórios. Isso é simples: basta executar o comando `git init` no diretório raiz do projeto, ou `git init /path/to/project` de qualquer outro lugar em seu computador."
   ]
  },
  {
   "cell_type": "markdown",
   "metadata": {},
   "source": [
    "## Como posso criar uma copia de um repositorio existente?\n",
    "As vezes vc vai se juntar a um projeto que ja esta em execucao, herdar um projeto de outra pessoa ou continuar trabalhando em um de seus proprios projetos em uma nova maquina. Em cada caso, voce ira clonar um repositorio existente em vez de criar um novo, Clonar um repositorio faz exatamente o que o nome sugere: ele cria uma copia de um repositorio existente (incluindo todo seu historico) em um novo diretorio.\n",
    "\n",
    "Para clonar um repositorio, use o comando `git clone URL`, onde `URL` identifica o repositorio que deseja clonar. Isso normalmente será algo como https://github.com/datacamp/project.git , mas para esta licao usaremos URLs do arquivo de file:///existing/project . O numero de barras no inicio é importante: a primeira parte do URL é arquivo ://, e entao há uma terceira barra para iniciar o caminho absoluto /existing/project.\n",
    "\n",
    "Quando vc clona um repositorio, o Git usa o nome do repositorio existente como o nome do diretorio raiz do clone: pro exemplo, o `git clone file:///existing/project` criará um novo diretorio chamado `project`. Se vc deseja chamar o clone de outra coisa, adicione o nome do \n",
    "diretorio que deseja para o comando.\n",
    "\n",
    "Usar um unico comando para clonar o repositorio para criar um novo repositorio chamado `dental` dentro de seu diretorio inicial\n",
    "Comando: `git clone file:///home/thunk/repo dental` (observe o espaco)"
   ]
  },
  {
   "cell_type": "markdown",
   "metadata": {},
   "source": [
    "## Como posso descobrir onde um repositorio clonado se originou?\n",
    "Quando vc clona um repositorio, o Git lembra onde o repositorio original era. Ele faz isso armazenando um controle remoto na configuracao do novo repositorio. Um controle remoto é como um marcador de navegador com um nome e um URL. Se vc estiver em um repositorio, vc pode listar os nomes de seus controles remotos usando o `git remote`.\n",
    "\n",
    "Se quiser mais informacoes, vc pode usar `git remote -v` (para \"verbose\"), que mostra os URLs do controle remoto. Observe que URLs é plural: é possivel que um remoto tenha varios URLs associados a ele para diferentes propósitos, embora na prática cada controle remoto seja quase sempre emparelhado com apenas um URL."
   ]
  },
  {
   "cell_type": "markdown",
   "metadata": {},
   "source": [
    "## Como posso definir controles remotos?\n",
    "Quando vc clona um repositorio, o Git cria automaticamente uma origem remota chama que aponta para o repositorio original. Vc pode adicionar mais controles remotos usando:\n",
    "\n",
    "`git remote add remote-name URL`\n",
    "\n",
    "e remover os existentes usando:\n",
    "\n",
    "`git remote rm remote-name`\n",
    "\n",
    "Vc pode conectar quaisquer dois repositorios Git dessa maneira, mas na prática, vc quase sempre conectará repositórios que compartilham um ancestral comum."
   ]
  },
  {
   "cell_type": "markdown",
   "metadata": {},
   "source": [
    "## Como posso extrair alterações de um repositorio remoto?\n",
    "O Git controla os repositorios remotos para que vc possa extrair as mudancas desses repositorios e enviar mudancas para eles. Puxar mudancas é direto: o comando `git pull remote branch` obtem tudo do `branch` no repositorio local. Por exemplo, se vc estiver na ramificacao do relatorio trimestral de seu repositorio local o comando:\n",
    "\n",
    "Use `git pull` with the name of the remote (`origin`) and the name of the branch (`master`).\n",
    "\n"
   ]
  },
  {
   "cell_type": "markdown",
   "metadata": {},
   "source": [
    "## O que acontece se eu tentar puxar quando tiver alteracoes nao salvas?\n",
    "Assim como o Git o impede de alternar as ramificacoes quando vc tem um trabalho nao salvo, ele tb impede de alternar as ramificacoes quando vc tem um trabalho nao salvo, ele tb impede que vc faca alteracoes em um repositorio remoto quando isso pode sobrescrever coisas que vc fez localmente. A correlacao é simples: confirme suas alteracoes locais ou reverta-as e tente puxar novamente.\n",
    "\n",
    "You are in the dental repository, which was cloned from a remote called `origin`. Use git `pull` to bring in changes from that repository.\n",
    "\n",
    "`git pull origin master`"
   ]
  },
  {
   "cell_type": "markdown",
   "metadata": {},
   "source": [
    "## Como posso empurrar minhas alteracoes para um repositorio remoto?\n",
    "O complemento do `git pull` é o `git push`, que envia as mudancas feitas localmente para um repositorio remoto. A maneira mais comum de usa-lo é:\n",
    "\n",
    "`git push nome-remoto nome-ramo`\n",
    "\n",
    "Que envias o conteudo do branch `branch-name` para um branch com o mesmo nome no repositorio remoto associado ao `remote-name`. É possível usar nomes de ramificacoes diferentes no final e no final do controle remoto, mas isso rapidamente se torna confuso: é quase sempre melhor usar os mesmos nomes para ramificacoes nos repositorios"
   ]
  },
  {
   "cell_type": "markdown",
   "metadata": {},
   "source": [
    "## O que acontece se meu empurrao entrar em conflito com o trabalho de outra pessoa?\n",
    "Sobrescrever seu proprio trabalho por acidente é ruim; substituir o de outra pessoa é pior. Para evitar que isso aconteça, o Git não permite que vc envie alteracoes para um repositorio remoto, a menos que vc tenha mesclado o conteudo do repositorio remoto em seu proprio trabalho."
   ]
  },
  {
   "cell_type": "code",
   "execution_count": null,
   "metadata": {},
   "outputs": [],
   "source": []
  }
 ],
 "metadata": {
  "kernelspec": {
   "display_name": "Python 3",
   "language": "python",
   "name": "python3"
  },
  "language_info": {
   "codemirror_mode": {
    "name": "ipython",
    "version": 3
   },
   "file_extension": ".py",
   "mimetype": "text/x-python",
   "name": "python",
   "nbconvert_exporter": "python",
   "pygments_lexer": "ipython3",
   "version": "3.6.5"
  }
 },
 "nbformat": 4,
 "nbformat_minor": 2
}
