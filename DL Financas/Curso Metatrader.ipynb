{
 "cells": [
  {
   "cell_type": "code",
   "execution_count": 1,
   "metadata": {},
   "outputs": [
    {
     "name": "stdout",
     "output_type": "stream",
     "text": [
      "Collecting ta-lib\n",
      "  Downloading TA-Lib-0.4.19.tar.gz (267 kB)\n",
      "\u001b[K     |████████████████████████████████| 267 kB 1.5 MB/s eta 0:00:01\n",
      "\u001b[?25hRequirement already satisfied: numpy in /opt/conda/lib/python3.8/site-packages (from ta-lib) (1.19.1)\n",
      "Building wheels for collected packages: ta-lib\n",
      "  Building wheel for ta-lib (setup.py) ... \u001b[?25lerror\n",
      "\u001b[31m  ERROR: Command errored out with exit status 1:\n",
      "   command: /opt/conda/bin/python3.8 -u -c 'import sys, setuptools, tokenize; sys.argv[0] = '\"'\"'/tmp/pip-install-hdwgmwtt/ta-lib/setup.py'\"'\"'; __file__='\"'\"'/tmp/pip-install-hdwgmwtt/ta-lib/setup.py'\"'\"';f=getattr(tokenize, '\"'\"'open'\"'\"', open)(__file__);code=f.read().replace('\"'\"'\\r\\n'\"'\"', '\"'\"'\\n'\"'\"');f.close();exec(compile(code, __file__, '\"'\"'exec'\"'\"'))' bdist_wheel -d /tmp/pip-wheel-u6ot12ns\n",
      "       cwd: /tmp/pip-install-hdwgmwtt/ta-lib/\n",
      "  Complete output (28 lines):\n",
      "  /tmp/pip-install-hdwgmwtt/ta-lib/setup.py:71: UserWarning: Cannot find ta-lib library, installation may fail.\n",
      "    warnings.warn('Cannot find ta-lib library, installation may fail.')\n",
      "  running bdist_wheel\n",
      "  running build\n",
      "  running build_py\n",
      "  creating build\n",
      "  creating build/lib.linux-x86_64-3.8\n",
      "  creating build/lib.linux-x86_64-3.8/talib\n",
      "  copying talib/test_stream.py -> build/lib.linux-x86_64-3.8/talib\n",
      "  copying talib/test_abstract.py -> build/lib.linux-x86_64-3.8/talib\n",
      "  copying talib/__init__.py -> build/lib.linux-x86_64-3.8/talib\n",
      "  copying talib/test_func.py -> build/lib.linux-x86_64-3.8/talib\n",
      "  copying talib/test_data.py -> build/lib.linux-x86_64-3.8/talib\n",
      "  copying talib/deprecated.py -> build/lib.linux-x86_64-3.8/talib\n",
      "  copying talib/stream.py -> build/lib.linux-x86_64-3.8/talib\n",
      "  copying talib/abstract.py -> build/lib.linux-x86_64-3.8/talib\n",
      "  copying talib/test_pandas.py -> build/lib.linux-x86_64-3.8/talib\n",
      "  running build_ext\n",
      "  skipping 'talib/_ta_lib.c' Cython extension (up-to-date)\n",
      "  building 'talib._ta_lib' extension\n",
      "  creating build/temp.linux-x86_64-3.8\n",
      "  creating build/temp.linux-x86_64-3.8/talib\n",
      "  gcc -pthread -B /opt/conda/compiler_compat -Wl,--sysroot=/ -Wsign-compare -DNDEBUG -g -fwrapv -O3 -Wall -Wstrict-prototypes -fPIC -I/usr/include -I/usr/local/include -I/opt/include -I/opt/local/include -I/opt/conda/lib/python3.8/site-packages/numpy/core/include -I/opt/conda/include/python3.8 -c talib/_ta_lib.c -o build/temp.linux-x86_64-3.8/talib/_ta_lib.o\n",
      "  talib/_ta_lib.c:611:10: fatal error: ta-lib/ta_defs.h: No such file or directory\n",
      "    611 | #include \"ta-lib/ta_defs.h\"\n",
      "        |          ^~~~~~~~~~~~~~~~~~\n",
      "  compilation terminated.\n",
      "  error: command 'gcc' failed with exit status 1\n",
      "  ----------------------------------------\u001b[0m\n",
      "\u001b[31m  ERROR: Failed building wheel for ta-lib\u001b[0m\n",
      "\u001b[?25h  Running setup.py clean for ta-lib\n",
      "Failed to build ta-lib\n",
      "Installing collected packages: ta-lib\n",
      "    Running setup.py install for ta-lib ... \u001b[?25lerror\n",
      "\u001b[31m    ERROR: Command errored out with exit status 1:\n",
      "     command: /opt/conda/bin/python3.8 -u -c 'import sys, setuptools, tokenize; sys.argv[0] = '\"'\"'/tmp/pip-install-hdwgmwtt/ta-lib/setup.py'\"'\"'; __file__='\"'\"'/tmp/pip-install-hdwgmwtt/ta-lib/setup.py'\"'\"';f=getattr(tokenize, '\"'\"'open'\"'\"', open)(__file__);code=f.read().replace('\"'\"'\\r\\n'\"'\"', '\"'\"'\\n'\"'\"');f.close();exec(compile(code, __file__, '\"'\"'exec'\"'\"'))' install --record /tmp/pip-record-t_d24rke/install-record.txt --single-version-externally-managed --compile --install-headers /opt/conda/include/python3.8/ta-lib\n",
      "         cwd: /tmp/pip-install-hdwgmwtt/ta-lib/\n",
      "    Complete output (28 lines):\n",
      "    /tmp/pip-install-hdwgmwtt/ta-lib/setup.py:71: UserWarning: Cannot find ta-lib library, installation may fail.\n",
      "      warnings.warn('Cannot find ta-lib library, installation may fail.')\n",
      "    running install\n",
      "    running build\n",
      "    running build_py\n",
      "    creating build\n",
      "    creating build/lib.linux-x86_64-3.8\n",
      "    creating build/lib.linux-x86_64-3.8/talib\n",
      "    copying talib/test_stream.py -> build/lib.linux-x86_64-3.8/talib\n",
      "    copying talib/test_abstract.py -> build/lib.linux-x86_64-3.8/talib\n",
      "    copying talib/__init__.py -> build/lib.linux-x86_64-3.8/talib\n",
      "    copying talib/test_func.py -> build/lib.linux-x86_64-3.8/talib\n",
      "    copying talib/test_data.py -> build/lib.linux-x86_64-3.8/talib\n",
      "    copying talib/deprecated.py -> build/lib.linux-x86_64-3.8/talib\n",
      "    copying talib/stream.py -> build/lib.linux-x86_64-3.8/talib\n",
      "    copying talib/abstract.py -> build/lib.linux-x86_64-3.8/talib\n",
      "    copying talib/test_pandas.py -> build/lib.linux-x86_64-3.8/talib\n",
      "    running build_ext\n",
      "    skipping 'talib/_ta_lib.c' Cython extension (up-to-date)\n",
      "    building 'talib._ta_lib' extension\n",
      "    creating build/temp.linux-x86_64-3.8\n",
      "    creating build/temp.linux-x86_64-3.8/talib\n",
      "    gcc -pthread -B /opt/conda/compiler_compat -Wl,--sysroot=/ -Wsign-compare -DNDEBUG -g -fwrapv -O3 -Wall -Wstrict-prototypes -fPIC -I/usr/include -I/usr/local/include -I/opt/include -I/opt/local/include -I/opt/conda/lib/python3.8/site-packages/numpy/core/include -I/opt/conda/include/python3.8 -c talib/_ta_lib.c -o build/temp.linux-x86_64-3.8/talib/_ta_lib.o\n",
      "    talib/_ta_lib.c:611:10: fatal error: ta-lib/ta_defs.h: No such file or directory\n",
      "      611 | #include \"ta-lib/ta_defs.h\"\n",
      "          |          ^~~~~~~~~~~~~~~~~~\n",
      "    compilation terminated.\n",
      "    error: command 'gcc' failed with exit status 1\n",
      "    ----------------------------------------\u001b[0m\n",
      "\u001b[31mERROR: Command errored out with exit status 1: /opt/conda/bin/python3.8 -u -c 'import sys, setuptools, tokenize; sys.argv[0] = '\"'\"'/tmp/pip-install-hdwgmwtt/ta-lib/setup.py'\"'\"'; __file__='\"'\"'/tmp/pip-install-hdwgmwtt/ta-lib/setup.py'\"'\"';f=getattr(tokenize, '\"'\"'open'\"'\"', open)(__file__);code=f.read().replace('\"'\"'\\r\\n'\"'\"', '\"'\"'\\n'\"'\"');f.close();exec(compile(code, __file__, '\"'\"'exec'\"'\"'))' install --record /tmp/pip-record-t_d24rke/install-record.txt --single-version-externally-managed --compile --install-headers /opt/conda/include/python3.8/ta-lib Check the logs for full command output.\u001b[0m\n",
      "\u001b[?25h"
     ]
    }
   ],
   "source": [
    "!pip install ta-lib"
   ]
  },
  {
   "cell_type": "code",
   "execution_count": null,
   "metadata": {},
   "outputs": [],
   "source": []
  }
 ],
 "metadata": {
  "kernelspec": {
   "display_name": "Python 3",
   "language": "python",
   "name": "python3"
  },
  "language_info": {
   "codemirror_mode": {
    "name": "ipython",
    "version": 3
   },
   "file_extension": ".py",
   "mimetype": "text/x-python",
   "name": "python",
   "nbconvert_exporter": "python",
   "pygments_lexer": "ipython3",
   "version": "3.8.5"
  }
 },
 "nbformat": 4,
 "nbformat_minor": 4
}
